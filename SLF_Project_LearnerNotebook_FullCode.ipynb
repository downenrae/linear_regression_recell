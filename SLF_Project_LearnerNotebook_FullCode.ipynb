{
 "cells": [
  {
   "cell_type": "markdown",
   "metadata": {
    "id": "p2r5o8SR4rqH"
   },
   "source": [
    "# Supervised Learning - Foundations Project: ReCell "
   ]
  },
  {
   "cell_type": "markdown",
   "metadata": {
    "id": "3SntBY974rqJ"
   },
   "source": [
    "## Problem Statement"
   ]
  },
  {
   "cell_type": "markdown",
   "metadata": {
    "id": "RA_GXJwuhmVz"
   },
   "source": [
    "### Business Context\n",
    "\n",
    "Buying and selling used phones and tablets used to be something that happened on a handful of online marketplace sites. But the used and refurbished device market has grown considerably over the past decade, and a new IDC (International Data Corporation) forecast predicts that the used phone market would be worth \\\\$52.7bn by 2023 with a compound annual growth rate (CAGR) of 13.6% from 2018 to 2023. This growth can be attributed to an uptick in demand for used phones and tablets that offer considerable savings compared with new models.\n",
    "\n",
    "Refurbished and used devices continue to provide cost-effective alternatives to both consumers and businesses that are looking to save money when purchasing one. There are plenty of other benefits associated with the used device market. Used and refurbished devices can be sold with warranties and can also be insured with proof of purchase. Third-party vendors/platforms, such as Verizon, Amazon, etc., provide attractive offers to customers for refurbished devices. Maximizing the longevity of devices through second-hand trade also reduces their environmental impact and helps in recycling and reducing waste. The impact of the COVID-19 outbreak may further boost this segment as consumers cut back on discretionary spending and buy phones and tablets only for immediate needs.\n",
    "\n",
    " \n",
    "### Objective\n",
    "\n",
    "The rising potential of this comparatively under-the-radar market fuels the need for an ML-based solution to develop a dynamic pricing strategy for used and refurbished devices. ReCell, a startup aiming to tap the potential in this market, has hired you as a data scientist. They want you to analyze the data provided and build a linear regression model to predict the price of a used phone/tablet and identify factors that significantly influence it.\n",
    "\n",
    " \n",
    "### Data Description\n",
    "\n",
    "The data contains the different attributes of used/refurbished phones and tablets. The data was collected in the year 2021. The detailed data dictionary is given below.\n",
    "\n",
    "\n",
    "- brand_name: Name of manufacturing brand\n",
    "- os: OS on which the device runs\n",
    "- screen_size: Size of the screen in cm\n",
    "- 4g: Whether 4G is available or not\n",
    "- 5g: Whether 5G is available or not\n",
    "- main_camera_mp: Resolution of the rear camera in megapixels\n",
    "- selfie_camera_mp: Resolution of the front camera in megapixels\n",
    "- int_memory: Amount of internal memory (ROM) in GB\n",
    "- ram: Amount of RAM in GB\n",
    "- battery: Energy capacity of the device battery in mAh\n",
    "- weight: Weight of the device in grams\n",
    "- release_year: Year when the device model was released\n",
    "- days_used: Number of days the used/refurbished device has been used\n",
    "- normalized_new_price: Normalized price of a new device of the same model in euros\n",
    "- normalized_used_price: Normalized price of the used/refurbished device in euros"
   ]
  },
  {
   "cell_type": "markdown",
   "metadata": {
    "id": "v_-uuGqH-qTt"
   },
   "source": [
    "## Importing necessary libraries"
   ]
  },
  {
   "cell_type": "code",
   "execution_count": 1,
   "metadata": {
    "id": "zeF8YaNKDPyK"
   },
   "outputs": [],
   "source": [
    "# Libraries to help with reading and manipulating data\n",
    "import numpy as np\n",
    "import pandas as pd\n",
    "\n",
    "# Libraries to help with data visualization\n",
    "import matplotlib.pyplot as plt\n",
    "import seaborn as sns\n",
    "\n",
    "sns.set()\n",
    "\n",
    "# split the data into train and test\n",
    "from sklearn.model_selection import train_test_split\n",
    "\n",
    "# for scaling\n",
    "from sklearn.preprocessing import MinMaxScaler, StandardScaler, RobustScaler, QuantileTransformer\n",
    "\n",
    "# to build linear regression_model\n",
    "from sklearn.linear_model import LinearRegression\n",
    "\n",
    "# to check model performance\n",
    "from sklearn.metrics import mean_absolute_error, mean_squared_error, r2_score\n",
    "\n",
    "# to build linear regression_model using statsmodels\n",
    "import statsmodels.api as sm\n",
    "\n",
    "# to compute VIF\n",
    "from statsmodels.stats.outliers_influence import variance_inflation_factor\n",
    "\n",
    "#show all the columns and rows\n",
    "pd.set_option('display.max_columns', None)\n",
    "pd.set_option('display.max_rows', None)"
   ]
  },
  {
   "cell_type": "markdown",
   "metadata": {
    "id": "xxhpZv9y-qTw"
   },
   "source": [
    "## Loading the dataset"
   ]
  },
  {
   "cell_type": "code",
   "execution_count": 2,
   "metadata": {
    "id": "ZJwX9wuc4rqL"
   },
   "outputs": [],
   "source": [
    "# acquire data\n",
    "data = pd.read_csv('used_device_data.csv') "
   ]
  },
  {
   "cell_type": "markdown",
   "metadata": {
    "id": "UvpMDcaaMKtI"
   },
   "source": [
    "## Data Overview"
   ]
  },
  {
   "cell_type": "markdown",
   "metadata": {
    "id": "tIiCRwqZ54_C"
   },
   "source": [
    "- Observations\n",
    "- Sanity checks"
   ]
  },
  {
   "cell_type": "code",
   "execution_count": 3,
   "metadata": {
    "id": "01hJQ7EfMKtK"
   },
   "outputs": [
    {
     "data": {
      "text/html": [
       "<div>\n",
       "<style scoped>\n",
       "    .dataframe tbody tr th:only-of-type {\n",
       "        vertical-align: middle;\n",
       "    }\n",
       "\n",
       "    .dataframe tbody tr th {\n",
       "        vertical-align: top;\n",
       "    }\n",
       "\n",
       "    .dataframe thead th {\n",
       "        text-align: right;\n",
       "    }\n",
       "</style>\n",
       "<table border=\"1\" class=\"dataframe\">\n",
       "  <thead>\n",
       "    <tr style=\"text-align: right;\">\n",
       "      <th></th>\n",
       "      <th>brand_name</th>\n",
       "      <th>os</th>\n",
       "      <th>screen_size</th>\n",
       "      <th>4g</th>\n",
       "      <th>5g</th>\n",
       "      <th>main_camera_mp</th>\n",
       "      <th>selfie_camera_mp</th>\n",
       "      <th>int_memory</th>\n",
       "      <th>ram</th>\n",
       "      <th>battery</th>\n",
       "      <th>weight</th>\n",
       "      <th>release_year</th>\n",
       "      <th>days_used</th>\n",
       "      <th>normalized_used_price</th>\n",
       "      <th>normalized_new_price</th>\n",
       "    </tr>\n",
       "  </thead>\n",
       "  <tbody>\n",
       "    <tr>\n",
       "      <th>0</th>\n",
       "      <td>Honor</td>\n",
       "      <td>Android</td>\n",
       "      <td>14.50</td>\n",
       "      <td>yes</td>\n",
       "      <td>no</td>\n",
       "      <td>13.0</td>\n",
       "      <td>5.0</td>\n",
       "      <td>64.0</td>\n",
       "      <td>3.0</td>\n",
       "      <td>3020.0</td>\n",
       "      <td>146.0</td>\n",
       "      <td>2020</td>\n",
       "      <td>127</td>\n",
       "      <td>4.307572</td>\n",
       "      <td>4.715100</td>\n",
       "    </tr>\n",
       "    <tr>\n",
       "      <th>1</th>\n",
       "      <td>Honor</td>\n",
       "      <td>Android</td>\n",
       "      <td>17.30</td>\n",
       "      <td>yes</td>\n",
       "      <td>yes</td>\n",
       "      <td>13.0</td>\n",
       "      <td>16.0</td>\n",
       "      <td>128.0</td>\n",
       "      <td>8.0</td>\n",
       "      <td>4300.0</td>\n",
       "      <td>213.0</td>\n",
       "      <td>2020</td>\n",
       "      <td>325</td>\n",
       "      <td>5.162097</td>\n",
       "      <td>5.519018</td>\n",
       "    </tr>\n",
       "    <tr>\n",
       "      <th>2</th>\n",
       "      <td>Honor</td>\n",
       "      <td>Android</td>\n",
       "      <td>16.69</td>\n",
       "      <td>yes</td>\n",
       "      <td>yes</td>\n",
       "      <td>13.0</td>\n",
       "      <td>8.0</td>\n",
       "      <td>128.0</td>\n",
       "      <td>8.0</td>\n",
       "      <td>4200.0</td>\n",
       "      <td>213.0</td>\n",
       "      <td>2020</td>\n",
       "      <td>162</td>\n",
       "      <td>5.111084</td>\n",
       "      <td>5.884631</td>\n",
       "    </tr>\n",
       "    <tr>\n",
       "      <th>3</th>\n",
       "      <td>Honor</td>\n",
       "      <td>Android</td>\n",
       "      <td>25.50</td>\n",
       "      <td>yes</td>\n",
       "      <td>yes</td>\n",
       "      <td>13.0</td>\n",
       "      <td>8.0</td>\n",
       "      <td>64.0</td>\n",
       "      <td>6.0</td>\n",
       "      <td>7250.0</td>\n",
       "      <td>480.0</td>\n",
       "      <td>2020</td>\n",
       "      <td>345</td>\n",
       "      <td>5.135387</td>\n",
       "      <td>5.630961</td>\n",
       "    </tr>\n",
       "    <tr>\n",
       "      <th>4</th>\n",
       "      <td>Honor</td>\n",
       "      <td>Android</td>\n",
       "      <td>15.32</td>\n",
       "      <td>yes</td>\n",
       "      <td>no</td>\n",
       "      <td>13.0</td>\n",
       "      <td>8.0</td>\n",
       "      <td>64.0</td>\n",
       "      <td>3.0</td>\n",
       "      <td>5000.0</td>\n",
       "      <td>185.0</td>\n",
       "      <td>2020</td>\n",
       "      <td>293</td>\n",
       "      <td>4.389995</td>\n",
       "      <td>4.947837</td>\n",
       "    </tr>\n",
       "  </tbody>\n",
       "</table>\n",
       "</div>"
      ],
      "text/plain": [
       "  brand_name       os  screen_size   4g   5g  main_camera_mp  \\\n",
       "0      Honor  Android        14.50  yes   no            13.0   \n",
       "1      Honor  Android        17.30  yes  yes            13.0   \n",
       "2      Honor  Android        16.69  yes  yes            13.0   \n",
       "3      Honor  Android        25.50  yes  yes            13.0   \n",
       "4      Honor  Android        15.32  yes   no            13.0   \n",
       "\n",
       "   selfie_camera_mp  int_memory  ram  battery  weight  release_year  \\\n",
       "0               5.0        64.0  3.0   3020.0   146.0          2020   \n",
       "1              16.0       128.0  8.0   4300.0   213.0          2020   \n",
       "2               8.0       128.0  8.0   4200.0   213.0          2020   \n",
       "3               8.0        64.0  6.0   7250.0   480.0          2020   \n",
       "4               8.0        64.0  3.0   5000.0   185.0          2020   \n",
       "\n",
       "   days_used  normalized_used_price  normalized_new_price  \n",
       "0        127               4.307572              4.715100  \n",
       "1        325               5.162097              5.519018  \n",
       "2        162               5.111084              5.884631  \n",
       "3        345               5.135387              5.630961  \n",
       "4        293               4.389995              4.947837  "
      ]
     },
     "execution_count": 3,
     "metadata": {},
     "output_type": "execute_result"
    }
   ],
   "source": [
    "#first glimpses of data\n",
    "data.head()"
   ]
  },
  {
   "cell_type": "code",
   "execution_count": 4,
   "metadata": {},
   "outputs": [
    {
     "data": {
      "text/plain": [
       "(3454, 15)"
      ]
     },
     "execution_count": 4,
     "metadata": {},
     "output_type": "execute_result"
    }
   ],
   "source": [
    "#how many rows and columns?\n",
    "data.shape"
   ]
  },
  {
   "cell_type": "code",
   "execution_count": 5,
   "metadata": {},
   "outputs": [
    {
     "data": {
      "text/html": [
       "<div>\n",
       "<style scoped>\n",
       "    .dataframe tbody tr th:only-of-type {\n",
       "        vertical-align: middle;\n",
       "    }\n",
       "\n",
       "    .dataframe tbody tr th {\n",
       "        vertical-align: top;\n",
       "    }\n",
       "\n",
       "    .dataframe thead th {\n",
       "        text-align: right;\n",
       "    }\n",
       "</style>\n",
       "<table border=\"1\" class=\"dataframe\">\n",
       "  <thead>\n",
       "    <tr style=\"text-align: right;\">\n",
       "      <th></th>\n",
       "      <th>screen_size</th>\n",
       "      <th>main_camera_mp</th>\n",
       "      <th>selfie_camera_mp</th>\n",
       "      <th>int_memory</th>\n",
       "      <th>ram</th>\n",
       "      <th>battery</th>\n",
       "      <th>weight</th>\n",
       "      <th>release_year</th>\n",
       "      <th>days_used</th>\n",
       "      <th>normalized_used_price</th>\n",
       "      <th>normalized_new_price</th>\n",
       "    </tr>\n",
       "  </thead>\n",
       "  <tbody>\n",
       "    <tr>\n",
       "      <th>count</th>\n",
       "      <td>3454.000000</td>\n",
       "      <td>3275.000000</td>\n",
       "      <td>3452.000000</td>\n",
       "      <td>3450.000000</td>\n",
       "      <td>3450.000000</td>\n",
       "      <td>3448.000000</td>\n",
       "      <td>3447.000000</td>\n",
       "      <td>3454.000000</td>\n",
       "      <td>3454.000000</td>\n",
       "      <td>3454.000000</td>\n",
       "      <td>3454.000000</td>\n",
       "    </tr>\n",
       "    <tr>\n",
       "      <th>mean</th>\n",
       "      <td>13.713115</td>\n",
       "      <td>9.460208</td>\n",
       "      <td>6.554229</td>\n",
       "      <td>54.573099</td>\n",
       "      <td>4.036122</td>\n",
       "      <td>3133.402697</td>\n",
       "      <td>182.751871</td>\n",
       "      <td>2015.965258</td>\n",
       "      <td>674.869716</td>\n",
       "      <td>4.364712</td>\n",
       "      <td>5.233107</td>\n",
       "    </tr>\n",
       "    <tr>\n",
       "      <th>std</th>\n",
       "      <td>3.805280</td>\n",
       "      <td>4.815461</td>\n",
       "      <td>6.970372</td>\n",
       "      <td>84.972371</td>\n",
       "      <td>1.365105</td>\n",
       "      <td>1299.682844</td>\n",
       "      <td>88.413228</td>\n",
       "      <td>2.298455</td>\n",
       "      <td>248.580166</td>\n",
       "      <td>0.588914</td>\n",
       "      <td>0.683637</td>\n",
       "    </tr>\n",
       "    <tr>\n",
       "      <th>min</th>\n",
       "      <td>5.080000</td>\n",
       "      <td>0.080000</td>\n",
       "      <td>0.000000</td>\n",
       "      <td>0.010000</td>\n",
       "      <td>0.020000</td>\n",
       "      <td>500.000000</td>\n",
       "      <td>69.000000</td>\n",
       "      <td>2013.000000</td>\n",
       "      <td>91.000000</td>\n",
       "      <td>1.536867</td>\n",
       "      <td>2.901422</td>\n",
       "    </tr>\n",
       "    <tr>\n",
       "      <th>25%</th>\n",
       "      <td>12.700000</td>\n",
       "      <td>5.000000</td>\n",
       "      <td>2.000000</td>\n",
       "      <td>16.000000</td>\n",
       "      <td>4.000000</td>\n",
       "      <td>2100.000000</td>\n",
       "      <td>142.000000</td>\n",
       "      <td>2014.000000</td>\n",
       "      <td>533.500000</td>\n",
       "      <td>4.033931</td>\n",
       "      <td>4.790342</td>\n",
       "    </tr>\n",
       "    <tr>\n",
       "      <th>50%</th>\n",
       "      <td>12.830000</td>\n",
       "      <td>8.000000</td>\n",
       "      <td>5.000000</td>\n",
       "      <td>32.000000</td>\n",
       "      <td>4.000000</td>\n",
       "      <td>3000.000000</td>\n",
       "      <td>160.000000</td>\n",
       "      <td>2015.500000</td>\n",
       "      <td>690.500000</td>\n",
       "      <td>4.405133</td>\n",
       "      <td>5.245892</td>\n",
       "    </tr>\n",
       "    <tr>\n",
       "      <th>75%</th>\n",
       "      <td>15.340000</td>\n",
       "      <td>13.000000</td>\n",
       "      <td>8.000000</td>\n",
       "      <td>64.000000</td>\n",
       "      <td>4.000000</td>\n",
       "      <td>4000.000000</td>\n",
       "      <td>185.000000</td>\n",
       "      <td>2018.000000</td>\n",
       "      <td>868.750000</td>\n",
       "      <td>4.755700</td>\n",
       "      <td>5.673718</td>\n",
       "    </tr>\n",
       "    <tr>\n",
       "      <th>max</th>\n",
       "      <td>30.710000</td>\n",
       "      <td>48.000000</td>\n",
       "      <td>32.000000</td>\n",
       "      <td>1024.000000</td>\n",
       "      <td>12.000000</td>\n",
       "      <td>9720.000000</td>\n",
       "      <td>855.000000</td>\n",
       "      <td>2020.000000</td>\n",
       "      <td>1094.000000</td>\n",
       "      <td>6.619433</td>\n",
       "      <td>7.847841</td>\n",
       "    </tr>\n",
       "  </tbody>\n",
       "</table>\n",
       "</div>"
      ],
      "text/plain": [
       "       screen_size  main_camera_mp  selfie_camera_mp   int_memory  \\\n",
       "count  3454.000000     3275.000000       3452.000000  3450.000000   \n",
       "mean     13.713115        9.460208          6.554229    54.573099   \n",
       "std       3.805280        4.815461          6.970372    84.972371   \n",
       "min       5.080000        0.080000          0.000000     0.010000   \n",
       "25%      12.700000        5.000000          2.000000    16.000000   \n",
       "50%      12.830000        8.000000          5.000000    32.000000   \n",
       "75%      15.340000       13.000000          8.000000    64.000000   \n",
       "max      30.710000       48.000000         32.000000  1024.000000   \n",
       "\n",
       "               ram      battery       weight  release_year    days_used  \\\n",
       "count  3450.000000  3448.000000  3447.000000   3454.000000  3454.000000   \n",
       "mean      4.036122  3133.402697   182.751871   2015.965258   674.869716   \n",
       "std       1.365105  1299.682844    88.413228      2.298455   248.580166   \n",
       "min       0.020000   500.000000    69.000000   2013.000000    91.000000   \n",
       "25%       4.000000  2100.000000   142.000000   2014.000000   533.500000   \n",
       "50%       4.000000  3000.000000   160.000000   2015.500000   690.500000   \n",
       "75%       4.000000  4000.000000   185.000000   2018.000000   868.750000   \n",
       "max      12.000000  9720.000000   855.000000   2020.000000  1094.000000   \n",
       "\n",
       "       normalized_used_price  normalized_new_price  \n",
       "count            3454.000000           3454.000000  \n",
       "mean                4.364712              5.233107  \n",
       "std                 0.588914              0.683637  \n",
       "min                 1.536867              2.901422  \n",
       "25%                 4.033931              4.790342  \n",
       "50%                 4.405133              5.245892  \n",
       "75%                 4.755700              5.673718  \n",
       "max                 6.619433              7.847841  "
      ]
     },
     "execution_count": 5,
     "metadata": {},
     "output_type": "execute_result"
    }
   ],
   "source": [
    "#this gives us the statistical summary of thw numerical columns\n",
    "data.describe()"
   ]
  },
  {
   "cell_type": "code",
   "execution_count": 6,
   "metadata": {},
   "outputs": [
    {
     "name": "stdout",
     "output_type": "stream",
     "text": [
      "<class 'pandas.core.frame.DataFrame'>\n",
      "RangeIndex: 3454 entries, 0 to 3453\n",
      "Data columns (total 15 columns):\n",
      " #   Column                 Non-Null Count  Dtype  \n",
      "---  ------                 --------------  -----  \n",
      " 0   brand_name             3454 non-null   object \n",
      " 1   os                     3454 non-null   object \n",
      " 2   screen_size            3454 non-null   float64\n",
      " 3   4g                     3454 non-null   object \n",
      " 4   5g                     3454 non-null   object \n",
      " 5   main_camera_mp         3275 non-null   float64\n",
      " 6   selfie_camera_mp       3452 non-null   float64\n",
      " 7   int_memory             3450 non-null   float64\n",
      " 8   ram                    3450 non-null   float64\n",
      " 9   battery                3448 non-null   float64\n",
      " 10  weight                 3447 non-null   float64\n",
      " 11  release_year           3454 non-null   int64  \n",
      " 12  days_used              3454 non-null   int64  \n",
      " 13  normalized_used_price  3454 non-null   float64\n",
      " 14  normalized_new_price   3454 non-null   float64\n",
      "dtypes: float64(9), int64(2), object(4)\n",
      "memory usage: 404.9+ KB\n"
     ]
    }
   ],
   "source": [
    "#here we learn the column names, if there are nulls, and the data type of each column\n",
    "data.info()"
   ]
  },
  {
   "cell_type": "code",
   "execution_count": 7,
   "metadata": {},
   "outputs": [],
   "source": [
    "# make a copy of data,creating a copy of the data so that original data remains unchanged\n",
    "df = data.copy()"
   ]
  },
  {
   "cell_type": "markdown",
   "metadata": {
    "id": "__7ciGcIDPyk"
   },
   "source": [
    "## Exploratory Data Analysis (EDA)"
   ]
  },
  {
   "cell_type": "markdown",
   "metadata": {
    "id": "3bGVKmh75ri8"
   },
   "source": [
    "- EDA is an important part of any project involving data.\n",
    "- It is important to investigate and understand the data better before building a model with it.\n",
    "- A few questions have been mentioned below which will help you approach the analysis in the right manner and generate insights from the data.\n",
    "- A thorough analysis of the data, in addition to the questions mentioned below, should be done."
   ]
  },
  {
   "cell_type": "markdown",
   "metadata": {
    "id": "oEyqzdJBb0jU"
   },
   "source": [
    "**Questions**:\n",
    "\n",
    "1. What does the distribution of normalized used device prices look like?\n",
    "2. What percentage of the used device market is dominated by Android devices?\n",
    "3. The amount of RAM is important for the smooth functioning of a device. How does the amount of RAM vary with the brand?\n",
    "4. A large battery often increases a device's weight, making it feel uncomfortable in the hands. How does the weight vary for phones and tablets offering large batteries (more than 4500 mAh)?\n",
    "5. Bigger screens are desirable for entertainment purposes as they offer a better viewing experience. How many phones and tablets are available across different brands with a screen size larger than 6 inches?\n",
    "6. A lot of devices nowadays offer great selfie cameras, allowing us to capture our favorite moments with loved ones. What is the distribution of devices offering greater than 8MP selfie cameras across brands?\n",
    "7. Which attributes are highly correlated with the normalized price of a used device?"
   ]
  },
  {
   "cell_type": "markdown",
   "metadata": {
    "id": "pVn5toJ7MKte"
   },
   "source": [
    "## Data Preprocessing"
   ]
  },
  {
   "cell_type": "markdown",
   "metadata": {
    "id": "YcceZiPd5vGV"
   },
   "source": [
    "- Missing value treatment\n",
    "- Feature engineering (if needed)\n",
    "- Outlier detection and treatment (if needed)\n",
    "- Preparing data for modeling\n",
    "- Any other preprocessing steps (if needed)"
   ]
  },
  {
   "cell_type": "code",
   "execution_count": 8,
   "metadata": {
    "id": "zUi6E9EUMKth"
   },
   "outputs": [
    {
     "data": {
      "text/plain": [
       "brand_name                 0\n",
       "os                         0\n",
       "screen_size                0\n",
       "4g                         0\n",
       "5g                         0\n",
       "main_camera_mp           179\n",
       "selfie_camera_mp           2\n",
       "int_memory                 4\n",
       "ram                        4\n",
       "battery                    6\n",
       "weight                     7\n",
       "release_year               0\n",
       "days_used                  0\n",
       "normalized_used_price      0\n",
       "normalized_new_price       0\n",
       "dtype: int64"
      ]
     },
     "execution_count": 8,
     "metadata": {},
     "output_type": "execute_result"
    }
   ],
   "source": [
    "# find total of null values in each column\n",
    "df.isnull().sum()"
   ]
  },
  {
   "cell_type": "markdown",
   "metadata": {},
   "source": [
    "#### Drop the nulls because the amount of data lost is only about 5%.¶"
   ]
  },
  {
   "cell_type": "code",
   "execution_count": 9,
   "metadata": {},
   "outputs": [
    {
     "name": "stdout",
     "output_type": "stream",
     "text": [
      "<class 'pandas.core.frame.DataFrame'>\n",
      "Int64Index: 3253 entries, 0 to 3453\n",
      "Data columns (total 15 columns):\n",
      " #   Column                 Non-Null Count  Dtype  \n",
      "---  ------                 --------------  -----  \n",
      " 0   brand_name             3253 non-null   object \n",
      " 1   os                     3253 non-null   object \n",
      " 2   screen_size            3253 non-null   float64\n",
      " 3   4g                     3253 non-null   object \n",
      " 4   5g                     3253 non-null   object \n",
      " 5   main_camera_mp         3253 non-null   float64\n",
      " 6   selfie_camera_mp       3253 non-null   float64\n",
      " 7   int_memory             3253 non-null   float64\n",
      " 8   ram                    3253 non-null   float64\n",
      " 9   battery                3253 non-null   float64\n",
      " 10  weight                 3253 non-null   float64\n",
      " 11  release_year           3253 non-null   int64  \n",
      " 12  days_used              3253 non-null   int64  \n",
      " 13  normalized_used_price  3253 non-null   float64\n",
      " 14  normalized_new_price   3253 non-null   float64\n",
      "dtypes: float64(9), int64(2), object(4)\n",
      "memory usage: 406.6+ KB\n"
     ]
    }
   ],
   "source": [
    "# drop null values, assign to back to df, and verify.\n",
    "df = df.dropna()\n",
    "df.info()"
   ]
  },
  {
   "cell_type": "code",
   "execution_count": 10,
   "metadata": {},
   "outputs": [
    {
     "data": {
      "text/plain": [
       "0"
      ]
     },
     "execution_count": 10,
     "metadata": {},
     "output_type": "execute_result"
    }
   ],
   "source": [
    "#check for duplicate values\n",
    "df.duplicated().sum()"
   ]
  },
  {
   "cell_type": "markdown",
   "metadata": {},
   "source": [
    "#### Nulls were dropped and no duplicates were found."
   ]
  },
  {
   "cell_type": "code",
   "execution_count": 14,
   "metadata": {},
   "outputs": [],
   "source": [
    "#convert screen size to inches\n",
    "df['screen_size'] = df['screen_size'].div(2.54).round(2)"
   ]
  },
  {
   "cell_type": "code",
   "execution_count": 12,
   "metadata": {},
   "outputs": [],
   "source": [
    "df['price_diff'] = df.apply(lambda x: x['normalized_new_price'] - x['normalized_used_price'], axis=1)"
   ]
  },
  {
   "cell_type": "code",
   "execution_count": 15,
   "metadata": {},
   "outputs": [
    {
     "data": {
      "text/html": [
       "<div>\n",
       "<style scoped>\n",
       "    .dataframe tbody tr th:only-of-type {\n",
       "        vertical-align: middle;\n",
       "    }\n",
       "\n",
       "    .dataframe tbody tr th {\n",
       "        vertical-align: top;\n",
       "    }\n",
       "\n",
       "    .dataframe thead th {\n",
       "        text-align: right;\n",
       "    }\n",
       "</style>\n",
       "<table border=\"1\" class=\"dataframe\">\n",
       "  <thead>\n",
       "    <tr style=\"text-align: right;\">\n",
       "      <th></th>\n",
       "      <th>brand_name</th>\n",
       "      <th>os</th>\n",
       "      <th>screen_size</th>\n",
       "      <th>4g</th>\n",
       "      <th>5g</th>\n",
       "      <th>main_camera_mp</th>\n",
       "      <th>selfie_camera_mp</th>\n",
       "      <th>int_memory</th>\n",
       "      <th>ram</th>\n",
       "      <th>battery</th>\n",
       "      <th>weight</th>\n",
       "      <th>release_year</th>\n",
       "      <th>days_used</th>\n",
       "      <th>normalized_used_price</th>\n",
       "      <th>normalized_new_price</th>\n",
       "      <th>price_diff</th>\n",
       "    </tr>\n",
       "  </thead>\n",
       "  <tbody>\n",
       "    <tr>\n",
       "      <th>0</th>\n",
       "      <td>Honor</td>\n",
       "      <td>Android</td>\n",
       "      <td>2.25</td>\n",
       "      <td>yes</td>\n",
       "      <td>no</td>\n",
       "      <td>13.0</td>\n",
       "      <td>5.0</td>\n",
       "      <td>64.0</td>\n",
       "      <td>3.0</td>\n",
       "      <td>3020.0</td>\n",
       "      <td>146.0</td>\n",
       "      <td>2020</td>\n",
       "      <td>127</td>\n",
       "      <td>4.307572</td>\n",
       "      <td>4.715100</td>\n",
       "      <td>0.407528</td>\n",
       "    </tr>\n",
       "    <tr>\n",
       "      <th>1</th>\n",
       "      <td>Honor</td>\n",
       "      <td>Android</td>\n",
       "      <td>2.68</td>\n",
       "      <td>yes</td>\n",
       "      <td>yes</td>\n",
       "      <td>13.0</td>\n",
       "      <td>16.0</td>\n",
       "      <td>128.0</td>\n",
       "      <td>8.0</td>\n",
       "      <td>4300.0</td>\n",
       "      <td>213.0</td>\n",
       "      <td>2020</td>\n",
       "      <td>325</td>\n",
       "      <td>5.162097</td>\n",
       "      <td>5.519018</td>\n",
       "      <td>0.356921</td>\n",
       "    </tr>\n",
       "    <tr>\n",
       "      <th>2</th>\n",
       "      <td>Honor</td>\n",
       "      <td>Android</td>\n",
       "      <td>2.59</td>\n",
       "      <td>yes</td>\n",
       "      <td>yes</td>\n",
       "      <td>13.0</td>\n",
       "      <td>8.0</td>\n",
       "      <td>128.0</td>\n",
       "      <td>8.0</td>\n",
       "      <td>4200.0</td>\n",
       "      <td>213.0</td>\n",
       "      <td>2020</td>\n",
       "      <td>162</td>\n",
       "      <td>5.111084</td>\n",
       "      <td>5.884631</td>\n",
       "      <td>0.773547</td>\n",
       "    </tr>\n",
       "    <tr>\n",
       "      <th>3</th>\n",
       "      <td>Honor</td>\n",
       "      <td>Android</td>\n",
       "      <td>3.95</td>\n",
       "      <td>yes</td>\n",
       "      <td>yes</td>\n",
       "      <td>13.0</td>\n",
       "      <td>8.0</td>\n",
       "      <td>64.0</td>\n",
       "      <td>6.0</td>\n",
       "      <td>7250.0</td>\n",
       "      <td>480.0</td>\n",
       "      <td>2020</td>\n",
       "      <td>345</td>\n",
       "      <td>5.135387</td>\n",
       "      <td>5.630961</td>\n",
       "      <td>0.495574</td>\n",
       "    </tr>\n",
       "    <tr>\n",
       "      <th>4</th>\n",
       "      <td>Honor</td>\n",
       "      <td>Android</td>\n",
       "      <td>2.37</td>\n",
       "      <td>yes</td>\n",
       "      <td>no</td>\n",
       "      <td>13.0</td>\n",
       "      <td>8.0</td>\n",
       "      <td>64.0</td>\n",
       "      <td>3.0</td>\n",
       "      <td>5000.0</td>\n",
       "      <td>185.0</td>\n",
       "      <td>2020</td>\n",
       "      <td>293</td>\n",
       "      <td>4.389995</td>\n",
       "      <td>4.947837</td>\n",
       "      <td>0.557843</td>\n",
       "    </tr>\n",
       "  </tbody>\n",
       "</table>\n",
       "</div>"
      ],
      "text/plain": [
       "  brand_name       os  screen_size   4g   5g  main_camera_mp  \\\n",
       "0      Honor  Android         2.25  yes   no            13.0   \n",
       "1      Honor  Android         2.68  yes  yes            13.0   \n",
       "2      Honor  Android         2.59  yes  yes            13.0   \n",
       "3      Honor  Android         3.95  yes  yes            13.0   \n",
       "4      Honor  Android         2.37  yes   no            13.0   \n",
       "\n",
       "   selfie_camera_mp  int_memory  ram  battery  weight  release_year  \\\n",
       "0               5.0        64.0  3.0   3020.0   146.0          2020   \n",
       "1              16.0       128.0  8.0   4300.0   213.0          2020   \n",
       "2               8.0       128.0  8.0   4200.0   213.0          2020   \n",
       "3               8.0        64.0  6.0   7250.0   480.0          2020   \n",
       "4               8.0        64.0  3.0   5000.0   185.0          2020   \n",
       "\n",
       "   days_used  normalized_used_price  normalized_new_price  price_diff  \n",
       "0        127               4.307572              4.715100    0.407528  \n",
       "1        325               5.162097              5.519018    0.356921  \n",
       "2        162               5.111084              5.884631    0.773547  \n",
       "3        345               5.135387              5.630961    0.495574  \n",
       "4        293               4.389995              4.947837    0.557843  "
      ]
     },
     "execution_count": 15,
     "metadata": {},
     "output_type": "execute_result"
    }
   ],
   "source": [
    "#verify changes made\n",
    "df.head()"
   ]
  },
  {
   "cell_type": "code",
   "execution_count": 16,
   "metadata": {},
   "outputs": [
    {
     "data": {
      "text/plain": [
       "Index(['brand_name', 'os', '4g', '5g'], dtype='object')"
      ]
     },
     "execution_count": 16,
     "metadata": {},
     "output_type": "execute_result"
    }
   ],
   "source": [
    "list= df.columns[[df[col].dtype == 'O' for col in df.columns]]\n",
    "list"
   ]
  },
  {
   "cell_type": "code",
   "execution_count": 17,
   "metadata": {},
   "outputs": [],
   "source": [
    "nums = ['screen_size', \n",
    "        'main_camera_mp', \n",
    "        'selfie_camera_mp', \n",
    "        'int_memory', \n",
    "        'ram', \n",
    "        'battery', \n",
    "        'weight', \n",
    "        'release_year', \n",
    "        'days_used',\n",
    "        'normalized_used_price',\n",
    "        'normalized_new_price',\n",
    "        'price_diff']\n",
    "cats = ['brand_name', 'os', '4g', '5g']"
   ]
  },
  {
   "cell_type": "code",
   "execution_count": 18,
   "metadata": {},
   "outputs": [
    {
     "name": "stdout",
     "output_type": "stream",
     "text": [
      "brand_name\n",
      "Others        502\n",
      "Samsung       341\n",
      "Huawei        251\n",
      "LG            201\n",
      "Lenovo        171\n",
      "ZTE           136\n",
      "Alcatel       121\n",
      "Asus          118\n",
      "Micromax      117\n",
      "Honor         116\n",
      "HTC           110\n",
      "Xiaomi        109\n",
      "Oppo          109\n",
      "Vivo          103\n",
      "Nokia          97\n",
      "Motorola       88\n",
      "Sony           79\n",
      "Gionee         56\n",
      "Acer           51\n",
      "Panasonic      45\n",
      "Meizu          44\n",
      "XOLO           42\n",
      "Apple          39\n",
      "Lava           34\n",
      "Celkon         33\n",
      "Spice          30\n",
      "Karbonn        29\n",
      "Microsoft      21\n",
      "Coolpad        19\n",
      "BlackBerry     18\n",
      "Google         13\n",
      "OnePlus         5\n",
      "Realme          5\n",
      "Name: brand_name, dtype: int64\n",
      "Others        15.431909\n",
      "Samsung       10.482631\n",
      "Huawei         7.715955\n",
      "LG             6.178912\n",
      "Lenovo         5.256686\n",
      "ZTE            4.180756\n",
      "Alcatel        3.719643\n",
      "Asus           3.627421\n",
      "Micromax       3.596680\n",
      "Honor          3.565939\n",
      "HTC            3.381494\n",
      "Xiaomi         3.350753\n",
      "Oppo           3.350753\n",
      "Vivo           3.166308\n",
      "Nokia          2.981863\n",
      "Motorola       2.705195\n",
      "Sony           2.428528\n",
      "Gionee         1.721488\n",
      "Acer           1.567784\n",
      "Panasonic      1.383338\n",
      "Meizu          1.352598\n",
      "XOLO           1.291116\n",
      "Apple          1.198893\n",
      "Lava           1.045189\n",
      "Celkon         1.014448\n",
      "Spice          0.922226\n",
      "Karbonn        0.891485\n",
      "Microsoft      0.645558\n",
      "Coolpad        0.584076\n",
      "BlackBerry     0.553335\n",
      "Google         0.399631\n",
      "OnePlus        0.153704\n",
      "Realme         0.153704\n",
      "Name: brand_name, dtype: float64\n"
     ]
    },
    {
     "data": {
      "image/png": "[encoded data removed]",
      "text/plain": [
       "<Figure size 432x288 with 1 Axes>"
      ]
     },
     "metadata": {},
     "output_type": "display_data"
    },
    {
     "name": "stdout",
     "output_type": "stream",
     "text": [
      "os\n",
      "Android    3024\n",
      "Others      128\n",
      "Windows      65\n",
      "iOS          36\n",
      "Name: os, dtype: int64\n",
      "Android    92.960344\n",
      "Others      3.934829\n",
      "Windows     1.998156\n",
      "iOS         1.106671\n",
      "Name: os, dtype: float64\n"
     ]
    },
    {
     "data": {
      "image/png": "[encoded data removed]",
      "text/plain": [
       "<Figure size 432x288 with 1 Axes>"
      ]
     },
     "metadata": {},
     "output_type": "display_data"
    },
    {
     "name": "stdout",
     "output_type": "stream",
     "text": [
      "4g\n",
      "yes    2148\n",
      "no     1105\n",
      "Name: 4g, dtype: int64\n",
      "yes    66.031356\n",
      "no     33.968644\n",
      "Name: 4g, dtype: float64\n"
     ]
    },
    {
     "data": {
      "image/png": "[encoded data removed]",
      "text/plain": [
       "<Figure size 432x288 with 1 Axes>"
      ]
     },
     "metadata": {},
     "output_type": "display_data"
    },
    {
     "name": "stdout",
     "output_type": "stream",
     "text": [
      "5g\n",
      "no     3168\n",
      "yes      85\n",
      "Name: 5g, dtype: int64\n",
      "no     97.387027\n",
      "yes     2.612973\n",
      "Name: 5g, dtype: float64\n"
     ]
    },
    {
     "data": {
      "image/png": "[encoded data removed]",
      "text/plain": [
       "<Figure size 432x288 with 1 Axes>"
      ]
     },
     "metadata": {},
     "output_type": "display_data"
    }
   ],
   "source": [
    " for col in cats:\n",
    "        print(col)\n",
    "        print(df[col].value_counts())\n",
    "        print(df[col].value_counts(normalize=True)*100)\n",
    "        sns.countplot(x=col, data=df)\n",
    "        plt.title(col+' counts')\n",
    "        plt.show()\n",
    "    "
   ]
  },
  {
   "cell_type": "code",
   "execution_count": 19,
   "metadata": {},
   "outputs": [
    {
     "data": {
      "image/png": "[encoded data removed]",
      "text/plain": [
       "<Figure size 432x288 with 1 Axes>"
      ]
     },
     "metadata": {},
     "output_type": "display_data"
    }
   ],
   "source": [
    "#Plotting Boxplots\n",
    "for col in nums:\n",
    "    boxplot = df.boxplot(column=['screen_size'])"
   ]
  },
  {
   "cell_type": "code",
   "execution_count": 20,
   "metadata": {},
   "outputs": [
    {
     "data": {
      "image/png": "[encoded data removed]",
      "text/plain": [
       "<Figure size 432x288 with 1 Axes>"
      ]
     },
     "metadata": {},
     "output_type": "display_data"
    },
    {
     "data": {
      "image/png": "[encoded data removed]",
      "text/plain": [
       "<Figure size 432x288 with 1 Axes>"
      ]
     },
     "metadata": {},
     "output_type": "display_data"
    },
    {
     "data": {
      "image/png": "[encoded data removed]",
      "text/plain": [
       "<Figure size 432x288 with 1 Axes>"
      ]
     },
     "metadata": {},
     "output_type": "display_data"
    },
    {
     "data": {
      "image/png": "[encoded data removed]",
      "text/plain": [
       "<Figure size 432x288 with 1 Axes>"
      ]
     },
     "metadata": {},
     "output_type": "display_data"
    },
    {
     "data": {
      "image/png": "[encoded data removed]",
      "text/plain": [
       "<Figure size 432x288 with 1 Axes>"
      ]
     },
     "metadata": {},
     "output_type": "display_data"
    },
    {
     "data": {
      "image/png": "[encoded data removed]",
      "text/plain": [
       "<Figure size 432x288 with 1 Axes>"
      ]
     },
     "metadata": {},
     "output_type": "display_data"
    },
    {
     "data": {
      "image/png": "[encoded data removed]",
      "text/plain": [
       "<Figure size 432x288 with 1 Axes>"
      ]
     },
     "metadata": {},
     "output_type": "display_data"
    },
    {
     "data": {
      "image/png": "[encoded data removed]",
      "text/plain": [
       "<Figure size 432x288 with 1 Axes>"
      ]
     },
     "metadata": {},
     "output_type": "display_data"
    },
    {
     "data": {
      "image/png": "[encoded data removed]",
      "text/plain": [
       "<Figure size 432x288 with 1 Axes>"
      ]
     },
     "metadata": {},
     "output_type": "display_data"
    },
    {
     "data": {
      "image/png": "[encoded data removed]",
      "text/plain": [
       "<Figure size 432x288 with 1 Axes>"
      ]
     },
     "metadata": {},
     "output_type": "display_data"
    },
    {
     "data": {
      "image/png": "[encoded data removed]",
      "text/plain": [
       "<Figure size 432x288 with 1 Axes>"
      ]
     },
     "metadata": {},
     "output_type": "display_data"
    },
    {
     "data": {
      "image/png": "[encoded data removed]",
      "text/plain": [
       "<Figure size 432x288 with 1 Axes>"
      ]
     },
     "metadata": {},
     "output_type": "display_data"
    }
   ],
   "source": [
    "for col in nums:\n",
    "    sns.histplot(x=col, data=df)\n",
    "    plt.show()"
   ]
  },
  {
   "cell_type": "code",
   "execution_count": 22,
   "metadata": {},
   "outputs": [
    {
     "data": {
      "image/png": "[encoded data removed]",
      "text/plain": [
       "<Figure size 432x288 with 1 Axes>"
      ]
     },
     "metadata": {},
     "output_type": "display_data"
    },
    {
     "data": {
      "image/png": "[encoded data removed]",
      "text/plain": [
       "<Figure size 432x288 with 1 Axes>"
      ]
     },
     "metadata": {},
     "output_type": "display_data"
    },
    {
     "data": {
      "image/png": "[encoded data removed]",
      "text/plain": [
       "<Figure size 432x288 with 1 Axes>"
      ]
     },
     "metadata": {},
     "output_type": "display_data"
    },
    {
     "data": {
      "image/png": "[encoded data removed]",
      "text/plain": [
       "<Figure size 432x288 with 1 Axes>"
      ]
     },
     "metadata": {},
     "output_type": "display_data"
    },
    {
     "data": {
      "image/png": "[encoded data removed]",
      "text/plain": [
       "<Figure size 432x288 with 1 Axes>"
      ]
     },
     "metadata": {},
     "output_type": "display_data"
    },
    {
     "data": {
      "image/png": "[encoded data removed]",
      "text/plain": [
       "<Figure size 432x288 with 1 Axes>"
      ]
     },
     "metadata": {},
     "output_type": "display_data"
    },
    {
     "data": {
      "image/png": "[encoded data removed]",
      "text/plain": [
       "<Figure size 432x288 with 1 Axes>"
      ]
     },
     "metadata": {},
     "output_type": "display_data"
    },
    {
     "data": {
      "image/png": "[encoded data removed]",
      "text/plain": [
       "<Figure size 432x288 with 1 Axes>"
      ]
     },
     "metadata": {},
     "output_type": "display_data"
    },
    {
     "data": {
      "image/png": "[encoded data removed]",
      "text/plain": [
       "<Figure size 432x288 with 1 Axes>"
      ]
     },
     "metadata": {},
     "output_type": "display_data"
    },
    {
     "data": {
      "image/png": "[encoded data removed]",
      "text/plain": [
       "<Figure size 432x288 with 1 Axes>"
      ]
     },
     "metadata": {},
     "output_type": "display_data"
    },
    {
     "data": {
      "image/png": "[encoded data removed]",
      "text/plain": [
       "<Figure size 432x288 with 1 Axes>"
      ]
     },
     "metadata": {},
     "output_type": "display_data"
    },
    {
     "data": {
      "image/png": "[encoded data removed]",
      "text/plain": [
       "<Figure size 432x288 with 1 Axes>"
      ]
     },
     "metadata": {},
     "output_type": "display_data"
    }
   ],
   "source": [
    "for col in nums:\n",
    "    sns.boxplot(x=col, data=df)\n",
    "    plt.show()"
   ]
  },
  {
   "cell_type": "code",
   "execution_count": null,
   "metadata": {},
   "outputs": [],
   "source": [
    "#After univariate exploration \n",
    "#Split: Train, Validate, and Test"
   ]
  },
  {
   "cell_type": "raw",
   "metadata": {},
   "source": [
    "def split_data(df):\n",
    "    '''\n",
    "    take in a DataFrame and return train, validate, and test DataFrames; stratify on normalized_used_price.\n",
    "    return train, validate, test DataFrames.\n",
    "    '''\n",
    "    train_validate, test = train_test_split(df, test_size=.2, random_state=123, stratify=df.normalized_used_price)\n",
    "    train, validate = train_test_split(train_validate, \n",
    "                                       test_size=.3, \n",
    "                                       random_state=123, \n",
    "                                       stratify=train_validate.normalized_used_price)\n",
    "    return train, validate, test"
   ]
  },
  {
   "cell_type": "raw",
   "metadata": {},
   "source": [
    "train, validate, test = split_data(df)"
   ]
  },
  {
   "cell_type": "code",
   "execution_count": null,
   "metadata": {},
   "outputs": [],
   "source": [
    "Encode and Scale/Normalize/Standardize/Transform/Balance: encode for categorical data; scale, normalize, transform numeric data as needed. Balance refers to correcting class imbalance.\n",
    "Model: train machine learning algorithms"
   ]
  },
  {
   "cell_type": "raw",
   "metadata": {},
   "source": [
    "#get dummies for object data type and this changes it to 'numerical'\n",
    "dummy_train = pd.get_dummies(train[['brand_name', 'os','4g', '5g']], dummy_na=False, drop_first=[True, True])\n",
    "dummy_train.head()"
   ]
  },
  {
   "cell_type": "raw",
   "metadata": {},
   "source": [
    "# Concatenate the dummy_df dataframe above with the original df\n",
    "\n",
    "df = pd.concat([df, dummy_df], axis=1)"
   ]
  },
  {
   "cell_type": "code",
   "execution_count": null,
   "metadata": {},
   "outputs": [],
   "source": [
    "def scale_data(train, val, test, cols_to_scale):\n",
    "    '''\n",
    "    This function takes in train, validate, and test dataframes as well as a\n",
    "    list of features to be scaled via the RobustScaler. It then returns the \n",
    "    scaled versions of train, validate, and test in new dataframes. \n",
    "    '''\n",
    "    # create copies to not mess with the original dataframes\n",
    "    train_scaled = train.copy()\n",
    "    val_scaled = val.copy()\n",
    "    test_scaled = test.copy()\n",
    "    \n",
    "    # create the scaler and fit it\n",
    "    scaler = RobustScaler()\n",
    "    scaler.fit(train[cols_to_scale])\n",
    "    \n",
    "    # use the scaler to scale the data and resave\n",
    "    train_scaled[cols_to_scale] = pd.DataFrame(scaler.transform(train[cols_to_scale]),\n",
    "                                               columns = train[cols_to_scale].columns.values).set_index([train.index.values])\n",
    "    val_scaled[cols_to_scale] = pd.DataFrame(scaler.transform(val[cols_to_scale]),\n",
    "                                               columns = val[cols_to_scale].columns.values).set_index([val.index.values])\n",
    "    test_scaled[cols_to_scale] = pd.DataFrame(scaler.transform(test[cols_to_scale]),\n",
    "                                               columns = test[cols_to_scale].columns.values).set_index([test.index.values])\n",
    "    \n",
    "    return train_scaled, val_scaled, test_scaled"
   ]
  },
  {
   "cell_type": "code",
   "execution_count": null,
   "metadata": {},
   "outputs": [],
   "source": []
  },
  {
   "cell_type": "markdown",
   "metadata": {},
   "source": [
    "The residplot displays residuals of a linear regression \n",
    "(how far each data point was off the linear regression fit by Euclidean distance)."
   ]
  },
  {
   "cell_type": "code",
   "execution_count": null,
   "metadata": {},
   "outputs": [],
   "source": [
    "•\tThe lmplot displays a linear regression fit with confidence intervals on a scatterplot."
   ]
  },
  {
   "cell_type": "code",
   "execution_count": null,
   "metadata": {},
   "outputs": [],
   "source": []
  },
  {
   "cell_type": "code",
   "execution_count": null,
   "metadata": {},
   "outputs": [],
   "source": []
  },
  {
   "cell_type": "code",
   "execution_count": null,
   "metadata": {},
   "outputs": [],
   "source": []
  },
  {
   "cell_type": "markdown",
   "metadata": {
    "id": "KNzFis7eEaXj"
   },
   "source": [
    "## EDA"
   ]
  },
  {
   "cell_type": "markdown",
   "metadata": {
    "id": "ZkYW8xGS5xdR"
   },
   "source": [
    "- It is a good idea to explore the data once again after manipulating it."
   ]
  },
  {
   "cell_type": "code",
   "execution_count": null,
   "metadata": {
    "id": "4lcDTGi9EZ1M"
   },
   "outputs": [],
   "source": []
  },
  {
   "cell_type": "markdown",
   "metadata": {
    "id": "HeUzI1OB4rqM"
   },
   "source": [
    "## Model Building - Linear Regression"
   ]
  },
  {
   "cell_type": "code",
   "execution_count": null,
   "metadata": {
    "id": "ZNRiMg0wMKth"
   },
   "outputs": [],
   "source": []
  },
  {
   "cell_type": "markdown",
   "metadata": {
    "id": "jvoU3F6oMKti"
   },
   "source": [
    "## Model Performance Check"
   ]
  },
  {
   "cell_type": "code",
   "execution_count": null,
   "metadata": {
    "id": "k3e6gzxdMKti"
   },
   "outputs": [],
   "source": []
  },
  {
   "cell_type": "markdown",
   "metadata": {
    "id": "a9GxSQf-qH8e"
   },
   "source": [
    "## Checking Linear Regression Assumptions"
   ]
  },
  {
   "cell_type": "markdown",
   "metadata": {
    "id": "UdGv3pQF50xP"
   },
   "source": [
    "- In order to make statistical inferences from a linear regression model, it is important to ensure that the assumptions of linear regression are satisfied."
   ]
  },
  {
   "cell_type": "code",
   "execution_count": null,
   "metadata": {
    "id": "naX-iXItqH-b"
   },
   "outputs": [],
   "source": []
  },
  {
   "cell_type": "markdown",
   "metadata": {
    "id": "jRYSDgFZMKtm"
   },
   "source": [
    "## Final Model"
   ]
  },
  {
   "cell_type": "code",
   "execution_count": null,
   "metadata": {
    "id": "x_Sqvs4TMKtn"
   },
   "outputs": [],
   "source": []
  },
  {
   "cell_type": "markdown",
   "metadata": {
    "id": "2BkZh6eHluZK"
   },
   "source": [
    "## Actionable Insights and Recommendations "
   ]
  },
  {
   "cell_type": "markdown",
   "metadata": {
    "id": "Mh_zkgqs4rqN"
   },
   "source": [
    "- \n"
   ]
  },
  {
   "cell_type": "markdown",
   "metadata": {
    "id": "bWXXovuh4rqN"
   },
   "source": [
    "___"
   ]
  }
 ],
 "metadata": {
  "colab": {
   "collapsed_sections": [
    "3SntBY974rqJ",
    "v_-uuGqH-qTt",
    "xxhpZv9y-qTw",
    "UvpMDcaaMKtI",
    "__7ciGcIDPyk",
    "pVn5toJ7MKte",
    "KNzFis7eEaXj",
    "HeUzI1OB4rqM",
    "jvoU3F6oMKti",
    "a9GxSQf-qH8e",
    "jRYSDgFZMKtm",
    "2BkZh6eHluZK"
   ],
   "name": "SLF_Project_LearnerNotebook_FullCode.ipynb",
   "provenance": []
  },
  "kernelspec": {
   "display_name": "Python 3 (ipykernel)",
   "language": "python",
   "name": "python3"
  },
  "language_info": {
   "codemirror_mode": {
    "name": "ipython",
    "version": 3
   },
   "file_extension": ".py",
   "mimetype": "text/x-python",
   "name": "python",
   "nbconvert_exporter": "python",
   "pygments_lexer": "ipython3",
   "version": "3.9.12"
  }
 },
 "nbformat": 4,
 "nbformat_minor": 1
}
