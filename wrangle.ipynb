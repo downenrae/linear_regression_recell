{
 "cells": [
  {
   "cell_type": "markdown",
   "id": "889b0882",
   "metadata": {},
   "source": [
    "# Recell Linear Regression"
   ]
  },
  {
   "cell_type": "markdown",
   "id": "b60b9047",
   "metadata": {},
   "source": [
    "### Imports"
   ]
  },
  {
   "cell_type": "code",
   "execution_count": 1,
   "id": "f3ae5566",
   "metadata": {},
   "outputs": [],
   "source": [
    "# Libraries to help with reading and manipulating data\n",
    "import numpy as np\n",
    "import pandas as pd\n",
    "\n",
    "# Libraries to help with data visualization\n",
    "import matplotlib.pyplot as plt\n",
    "import seaborn as sns\n",
    "\n",
    "sns.set()\n",
    "\n",
    "# split the data into train and test\n",
    "from sklearn.model_selection import train_test_split\n",
    "\n",
    "# to build linear regression_model\n",
    "from sklearn.linear_model import LinearRegression\n",
    "\n",
    "# to check model performance\n",
    "from sklearn.metrics import mean_absolute_error, mean_squared_error, r2_score\n",
    "\n",
    "# to build linear regression_model using statsmodels\n",
    "import statsmodels.api as sm\n",
    "\n",
    "# to compute VIF\n",
    "from statsmodels.stats.outliers_influence import variance_inflation_factor"
   ]
  },
  {
   "cell_type": "code",
   "execution_count": null,
   "id": "219b6e0e",
   "metadata": {},
   "outputs": [],
   "source": []
  },
  {
   "cell_type": "markdown",
   "id": "ebd1a4fd",
   "metadata": {},
   "source": [
    "### Acquisition\n",
    "#### Acquire data\n",
    "#### Summarize Data\n",
    "- .head\n",
    "- .shape\n",
    "- .describe\n",
    "- .info"
   ]
  },
  {
   "cell_type": "code",
   "execution_count": 2,
   "id": "cd487101",
   "metadata": {},
   "outputs": [],
   "source": [
    "# acquire data\n",
    "data = pd.read_csv('used_device_data.csv') "
   ]
  },
  {
   "cell_type": "code",
   "execution_count": 3,
   "id": "1c82673c",
   "metadata": {},
   "outputs": [
    {
     "data": {
      "text/html": [
       "<div>\n",
       "<style scoped>\n",
       "    .dataframe tbody tr th:only-of-type {\n",
       "        vertical-align: middle;\n",
       "    }\n",
       "\n",
       "    .dataframe tbody tr th {\n",
       "        vertical-align: top;\n",
       "    }\n",
       "\n",
       "    .dataframe thead th {\n",
       "        text-align: right;\n",
       "    }\n",
       "</style>\n",
       "<table border=\"1\" class=\"dataframe\">\n",
       "  <thead>\n",
       "    <tr style=\"text-align: right;\">\n",
       "      <th></th>\n",
       "      <th>brand_name</th>\n",
       "      <th>os</th>\n",
       "      <th>screen_size</th>\n",
       "      <th>4g</th>\n",
       "      <th>5g</th>\n",
       "      <th>main_camera_mp</th>\n",
       "      <th>selfie_camera_mp</th>\n",
       "      <th>int_memory</th>\n",
       "      <th>ram</th>\n",
       "      <th>battery</th>\n",
       "      <th>weight</th>\n",
       "      <th>release_year</th>\n",
       "      <th>days_used</th>\n",
       "      <th>normalized_used_price</th>\n",
       "      <th>normalized_new_price</th>\n",
       "    </tr>\n",
       "  </thead>\n",
       "  <tbody>\n",
       "    <tr>\n",
       "      <th>0</th>\n",
       "      <td>Honor</td>\n",
       "      <td>Android</td>\n",
       "      <td>14.50</td>\n",
       "      <td>yes</td>\n",
       "      <td>no</td>\n",
       "      <td>13.0</td>\n",
       "      <td>5.0</td>\n",
       "      <td>64.0</td>\n",
       "      <td>3.0</td>\n",
       "      <td>3020.0</td>\n",
       "      <td>146.0</td>\n",
       "      <td>2020</td>\n",
       "      <td>127</td>\n",
       "      <td>4.307572</td>\n",
       "      <td>4.715100</td>\n",
       "    </tr>\n",
       "    <tr>\n",
       "      <th>1</th>\n",
       "      <td>Honor</td>\n",
       "      <td>Android</td>\n",
       "      <td>17.30</td>\n",
       "      <td>yes</td>\n",
       "      <td>yes</td>\n",
       "      <td>13.0</td>\n",
       "      <td>16.0</td>\n",
       "      <td>128.0</td>\n",
       "      <td>8.0</td>\n",
       "      <td>4300.0</td>\n",
       "      <td>213.0</td>\n",
       "      <td>2020</td>\n",
       "      <td>325</td>\n",
       "      <td>5.162097</td>\n",
       "      <td>5.519018</td>\n",
       "    </tr>\n",
       "    <tr>\n",
       "      <th>2</th>\n",
       "      <td>Honor</td>\n",
       "      <td>Android</td>\n",
       "      <td>16.69</td>\n",
       "      <td>yes</td>\n",
       "      <td>yes</td>\n",
       "      <td>13.0</td>\n",
       "      <td>8.0</td>\n",
       "      <td>128.0</td>\n",
       "      <td>8.0</td>\n",
       "      <td>4200.0</td>\n",
       "      <td>213.0</td>\n",
       "      <td>2020</td>\n",
       "      <td>162</td>\n",
       "      <td>5.111084</td>\n",
       "      <td>5.884631</td>\n",
       "    </tr>\n",
       "    <tr>\n",
       "      <th>3</th>\n",
       "      <td>Honor</td>\n",
       "      <td>Android</td>\n",
       "      <td>25.50</td>\n",
       "      <td>yes</td>\n",
       "      <td>yes</td>\n",
       "      <td>13.0</td>\n",
       "      <td>8.0</td>\n",
       "      <td>64.0</td>\n",
       "      <td>6.0</td>\n",
       "      <td>7250.0</td>\n",
       "      <td>480.0</td>\n",
       "      <td>2020</td>\n",
       "      <td>345</td>\n",
       "      <td>5.135387</td>\n",
       "      <td>5.630961</td>\n",
       "    </tr>\n",
       "    <tr>\n",
       "      <th>4</th>\n",
       "      <td>Honor</td>\n",
       "      <td>Android</td>\n",
       "      <td>15.32</td>\n",
       "      <td>yes</td>\n",
       "      <td>no</td>\n",
       "      <td>13.0</td>\n",
       "      <td>8.0</td>\n",
       "      <td>64.0</td>\n",
       "      <td>3.0</td>\n",
       "      <td>5000.0</td>\n",
       "      <td>185.0</td>\n",
       "      <td>2020</td>\n",
       "      <td>293</td>\n",
       "      <td>4.389995</td>\n",
       "      <td>4.947837</td>\n",
       "    </tr>\n",
       "  </tbody>\n",
       "</table>\n",
       "</div>"
      ],
      "text/plain": [
       "  brand_name       os  screen_size   4g   5g  main_camera_mp  \\\n",
       "0      Honor  Android        14.50  yes   no            13.0   \n",
       "1      Honor  Android        17.30  yes  yes            13.0   \n",
       "2      Honor  Android        16.69  yes  yes            13.0   \n",
       "3      Honor  Android        25.50  yes  yes            13.0   \n",
       "4      Honor  Android        15.32  yes   no            13.0   \n",
       "\n",
       "   selfie_camera_mp  int_memory  ram  battery  weight  release_year  \\\n",
       "0               5.0        64.0  3.0   3020.0   146.0          2020   \n",
       "1              16.0       128.0  8.0   4300.0   213.0          2020   \n",
       "2               8.0       128.0  8.0   4200.0   213.0          2020   \n",
       "3               8.0        64.0  6.0   7250.0   480.0          2020   \n",
       "4               8.0        64.0  3.0   5000.0   185.0          2020   \n",
       "\n",
       "   days_used  normalized_used_price  normalized_new_price  \n",
       "0        127               4.307572              4.715100  \n",
       "1        325               5.162097              5.519018  \n",
       "2        162               5.111084              5.884631  \n",
       "3        345               5.135387              5.630961  \n",
       "4        293               4.389995              4.947837  "
      ]
     },
     "execution_count": 3,
     "metadata": {},
     "output_type": "execute_result"
    }
   ],
   "source": [
    "#first glimpses of data\n",
    "data.head()"
   ]
  },
  {
   "cell_type": "code",
   "execution_count": 4,
   "id": "05c15cdd",
   "metadata": {},
   "outputs": [
    {
     "data": {
      "text/plain": [
       "(3454, 15)"
      ]
     },
     "execution_count": 4,
     "metadata": {},
     "output_type": "execute_result"
    }
   ],
   "source": [
    "#How many rows and columns?\n",
    "data.shape"
   ]
  },
  {
   "cell_type": "code",
   "execution_count": 5,
   "id": "3724f42e",
   "metadata": {},
   "outputs": [
    {
     "data": {
      "text/html": [
       "<div>\n",
       "<style scoped>\n",
       "    .dataframe tbody tr th:only-of-type {\n",
       "        vertical-align: middle;\n",
       "    }\n",
       "\n",
       "    .dataframe tbody tr th {\n",
       "        vertical-align: top;\n",
       "    }\n",
       "\n",
       "    .dataframe thead th {\n",
       "        text-align: right;\n",
       "    }\n",
       "</style>\n",
       "<table border=\"1\" class=\"dataframe\">\n",
       "  <thead>\n",
       "    <tr style=\"text-align: right;\">\n",
       "      <th></th>\n",
       "      <th>screen_size</th>\n",
       "      <th>main_camera_mp</th>\n",
       "      <th>selfie_camera_mp</th>\n",
       "      <th>int_memory</th>\n",
       "      <th>ram</th>\n",
       "      <th>battery</th>\n",
       "      <th>weight</th>\n",
       "      <th>release_year</th>\n",
       "      <th>days_used</th>\n",
       "      <th>normalized_used_price</th>\n",
       "      <th>normalized_new_price</th>\n",
       "    </tr>\n",
       "  </thead>\n",
       "  <tbody>\n",
       "    <tr>\n",
       "      <th>count</th>\n",
       "      <td>3454.000000</td>\n",
       "      <td>3275.000000</td>\n",
       "      <td>3452.000000</td>\n",
       "      <td>3450.000000</td>\n",
       "      <td>3450.000000</td>\n",
       "      <td>3448.000000</td>\n",
       "      <td>3447.000000</td>\n",
       "      <td>3454.000000</td>\n",
       "      <td>3454.000000</td>\n",
       "      <td>3454.000000</td>\n",
       "      <td>3454.000000</td>\n",
       "    </tr>\n",
       "    <tr>\n",
       "      <th>mean</th>\n",
       "      <td>13.713115</td>\n",
       "      <td>9.460208</td>\n",
       "      <td>6.554229</td>\n",
       "      <td>54.573099</td>\n",
       "      <td>4.036122</td>\n",
       "      <td>3133.402697</td>\n",
       "      <td>182.751871</td>\n",
       "      <td>2015.965258</td>\n",
       "      <td>674.869716</td>\n",
       "      <td>4.364712</td>\n",
       "      <td>5.233107</td>\n",
       "    </tr>\n",
       "    <tr>\n",
       "      <th>std</th>\n",
       "      <td>3.805280</td>\n",
       "      <td>4.815461</td>\n",
       "      <td>6.970372</td>\n",
       "      <td>84.972371</td>\n",
       "      <td>1.365105</td>\n",
       "      <td>1299.682844</td>\n",
       "      <td>88.413228</td>\n",
       "      <td>2.298455</td>\n",
       "      <td>248.580166</td>\n",
       "      <td>0.588914</td>\n",
       "      <td>0.683637</td>\n",
       "    </tr>\n",
       "    <tr>\n",
       "      <th>min</th>\n",
       "      <td>5.080000</td>\n",
       "      <td>0.080000</td>\n",
       "      <td>0.000000</td>\n",
       "      <td>0.010000</td>\n",
       "      <td>0.020000</td>\n",
       "      <td>500.000000</td>\n",
       "      <td>69.000000</td>\n",
       "      <td>2013.000000</td>\n",
       "      <td>91.000000</td>\n",
       "      <td>1.536867</td>\n",
       "      <td>2.901422</td>\n",
       "    </tr>\n",
       "    <tr>\n",
       "      <th>25%</th>\n",
       "      <td>12.700000</td>\n",
       "      <td>5.000000</td>\n",
       "      <td>2.000000</td>\n",
       "      <td>16.000000</td>\n",
       "      <td>4.000000</td>\n",
       "      <td>2100.000000</td>\n",
       "      <td>142.000000</td>\n",
       "      <td>2014.000000</td>\n",
       "      <td>533.500000</td>\n",
       "      <td>4.033931</td>\n",
       "      <td>4.790342</td>\n",
       "    </tr>\n",
       "    <tr>\n",
       "      <th>50%</th>\n",
       "      <td>12.830000</td>\n",
       "      <td>8.000000</td>\n",
       "      <td>5.000000</td>\n",
       "      <td>32.000000</td>\n",
       "      <td>4.000000</td>\n",
       "      <td>3000.000000</td>\n",
       "      <td>160.000000</td>\n",
       "      <td>2015.500000</td>\n",
       "      <td>690.500000</td>\n",
       "      <td>4.405133</td>\n",
       "      <td>5.245892</td>\n",
       "    </tr>\n",
       "    <tr>\n",
       "      <th>75%</th>\n",
       "      <td>15.340000</td>\n",
       "      <td>13.000000</td>\n",
       "      <td>8.000000</td>\n",
       "      <td>64.000000</td>\n",
       "      <td>4.000000</td>\n",
       "      <td>4000.000000</td>\n",
       "      <td>185.000000</td>\n",
       "      <td>2018.000000</td>\n",
       "      <td>868.750000</td>\n",
       "      <td>4.755700</td>\n",
       "      <td>5.673718</td>\n",
       "    </tr>\n",
       "    <tr>\n",
       "      <th>max</th>\n",
       "      <td>30.710000</td>\n",
       "      <td>48.000000</td>\n",
       "      <td>32.000000</td>\n",
       "      <td>1024.000000</td>\n",
       "      <td>12.000000</td>\n",
       "      <td>9720.000000</td>\n",
       "      <td>855.000000</td>\n",
       "      <td>2020.000000</td>\n",
       "      <td>1094.000000</td>\n",
       "      <td>6.619433</td>\n",
       "      <td>7.847841</td>\n",
       "    </tr>\n",
       "  </tbody>\n",
       "</table>\n",
       "</div>"
      ],
      "text/plain": [
       "       screen_size  main_camera_mp  selfie_camera_mp   int_memory  \\\n",
       "count  3454.000000     3275.000000       3452.000000  3450.000000   \n",
       "mean     13.713115        9.460208          6.554229    54.573099   \n",
       "std       3.805280        4.815461          6.970372    84.972371   \n",
       "min       5.080000        0.080000          0.000000     0.010000   \n",
       "25%      12.700000        5.000000          2.000000    16.000000   \n",
       "50%      12.830000        8.000000          5.000000    32.000000   \n",
       "75%      15.340000       13.000000          8.000000    64.000000   \n",
       "max      30.710000       48.000000         32.000000  1024.000000   \n",
       "\n",
       "               ram      battery       weight  release_year    days_used  \\\n",
       "count  3450.000000  3448.000000  3447.000000   3454.000000  3454.000000   \n",
       "mean      4.036122  3133.402697   182.751871   2015.965258   674.869716   \n",
       "std       1.365105  1299.682844    88.413228      2.298455   248.580166   \n",
       "min       0.020000   500.000000    69.000000   2013.000000    91.000000   \n",
       "25%       4.000000  2100.000000   142.000000   2014.000000   533.500000   \n",
       "50%       4.000000  3000.000000   160.000000   2015.500000   690.500000   \n",
       "75%       4.000000  4000.000000   185.000000   2018.000000   868.750000   \n",
       "max      12.000000  9720.000000   855.000000   2020.000000  1094.000000   \n",
       "\n",
       "       normalized_used_price  normalized_new_price  \n",
       "count            3454.000000           3454.000000  \n",
       "mean                4.364712              5.233107  \n",
       "std                 0.588914              0.683637  \n",
       "min                 1.536867              2.901422  \n",
       "25%                 4.033931              4.790342  \n",
       "50%                 4.405133              5.245892  \n",
       "75%                 4.755700              5.673718  \n",
       "max                 6.619433              7.847841  "
      ]
     },
     "execution_count": 5,
     "metadata": {},
     "output_type": "execute_result"
    }
   ],
   "source": [
    "# This gives us the statistical summary of thw numerical columns\n",
    "data.describe()"
   ]
  },
  {
   "cell_type": "code",
   "execution_count": 6,
   "id": "6202c04a",
   "metadata": {},
   "outputs": [
    {
     "name": "stdout",
     "output_type": "stream",
     "text": [
      "<class 'pandas.core.frame.DataFrame'>\n",
      "RangeIndex: 3454 entries, 0 to 3453\n",
      "Data columns (total 15 columns):\n",
      " #   Column                 Non-Null Count  Dtype  \n",
      "---  ------                 --------------  -----  \n",
      " 0   brand_name             3454 non-null   object \n",
      " 1   os                     3454 non-null   object \n",
      " 2   screen_size            3454 non-null   float64\n",
      " 3   4g                     3454 non-null   object \n",
      " 4   5g                     3454 non-null   object \n",
      " 5   main_camera_mp         3275 non-null   float64\n",
      " 6   selfie_camera_mp       3452 non-null   float64\n",
      " 7   int_memory             3450 non-null   float64\n",
      " 8   ram                    3450 non-null   float64\n",
      " 9   battery                3448 non-null   float64\n",
      " 10  weight                 3447 non-null   float64\n",
      " 11  release_year           3454 non-null   int64  \n",
      " 12  days_used              3454 non-null   int64  \n",
      " 13  normalized_used_price  3454 non-null   float64\n",
      " 14  normalized_new_price   3454 non-null   float64\n",
      "dtypes: float64(9), int64(2), object(4)\n",
      "memory usage: 404.9+ KB\n"
     ]
    }
   ],
   "source": [
    "#Here we learn the column names, if there are nulls, and the data type of each column\n",
    "data.info()"
   ]
  },
  {
   "cell_type": "markdown",
   "id": "ac271a17",
   "metadata": {},
   "source": [
    "### Acquire and Summarize Takeaways\n",
    "#### "
   ]
  },
  {
   "cell_type": "code",
   "execution_count": 7,
   "id": "782fc8cb",
   "metadata": {},
   "outputs": [],
   "source": [
    "# make a copy of data,creating a copy of the data so that original data remains unchanged\n",
    "df = data.copy()"
   ]
  },
  {
   "cell_type": "markdown",
   "id": "78d868a2",
   "metadata": {},
   "source": [
    "### Preparation\n",
    "#### Clean data by converting datatypes and handling missing values\n",
    "#### View single variable distributuionsbefore splitting data\n",
    "####  Split data into 3 samples: Train, Validate, and Test using sklearn\n",
    "#### Scale numeric data so all variables are on same scale"
   ]
  },
  {
   "cell_type": "code",
   "execution_count": 8,
   "id": "9607ec54",
   "metadata": {},
   "outputs": [
    {
     "data": {
      "text/plain": [
       "brand_name                 0\n",
       "os                         0\n",
       "screen_size                0\n",
       "4g                         0\n",
       "5g                         0\n",
       "main_camera_mp           179\n",
       "selfie_camera_mp           2\n",
       "int_memory                 4\n",
       "ram                        4\n",
       "battery                    6\n",
       "weight                     7\n",
       "release_year               0\n",
       "days_used                  0\n",
       "normalized_used_price      0\n",
       "normalized_new_price       0\n",
       "dtype: int64"
      ]
     },
     "execution_count": 8,
     "metadata": {},
     "output_type": "execute_result"
    }
   ],
   "source": [
    "# find total of Null values in each column\n",
    "df.isnull().sum()"
   ]
  },
  {
   "cell_type": "code",
   "execution_count": 34,
   "id": "e2dd3ed5",
   "metadata": {},
   "outputs": [
    {
     "data": {
      "text/plain": [
       "Index([], dtype='object')"
      ]
     },
     "execution_count": 34,
     "metadata": {},
     "output_type": "execute_result"
    }
   ],
   "source": [
    "df.columns[df.isnull().any()]"
   ]
  },
  {
   "cell_type": "markdown",
   "id": "37e96f3a",
   "metadata": {},
   "source": [
    "#### Drop the nulls because the amount of data lost is only about 5%."
   ]
  },
  {
   "cell_type": "code",
   "execution_count": 9,
   "id": "71e9f650",
   "metadata": {},
   "outputs": [
    {
     "name": "stdout",
     "output_type": "stream",
     "text": [
      "<class 'pandas.core.frame.DataFrame'>\n",
      "Int64Index: 3253 entries, 0 to 3453\n",
      "Data columns (total 15 columns):\n",
      " #   Column                 Non-Null Count  Dtype  \n",
      "---  ------                 --------------  -----  \n",
      " 0   brand_name             3253 non-null   object \n",
      " 1   os                     3253 non-null   object \n",
      " 2   screen_size            3253 non-null   float64\n",
      " 3   4g                     3253 non-null   object \n",
      " 4   5g                     3253 non-null   object \n",
      " 5   main_camera_mp         3253 non-null   float64\n",
      " 6   selfie_camera_mp       3253 non-null   float64\n",
      " 7   int_memory             3253 non-null   float64\n",
      " 8   ram                    3253 non-null   float64\n",
      " 9   battery                3253 non-null   float64\n",
      " 10  weight                 3253 non-null   float64\n",
      " 11  release_year           3253 non-null   int64  \n",
      " 12  days_used              3253 non-null   int64  \n",
      " 13  normalized_used_price  3253 non-null   float64\n",
      " 14  normalized_new_price   3253 non-null   float64\n",
      "dtypes: float64(9), int64(2), object(4)\n",
      "memory usage: 406.6+ KB\n"
     ]
    }
   ],
   "source": [
    "# drop Null values, assign to back to  df, and verify.\n",
    "df = df.dropna()\n",
    "df.info()"
   ]
  },
  {
   "cell_type": "code",
   "execution_count": null,
   "id": "55e64c62",
   "metadata": {},
   "outputs": [],
   "source": [
    "df['price_diff']= df.normalized_new_price-df.normalized_used_price"
   ]
  },
  {
   "cell_type": "code",
   "execution_count": 12,
   "id": "105f11d0",
   "metadata": {},
   "outputs": [
    {
     "data": {
      "text/plain": [
       "array(['Honor', 'Others', 'HTC', 'Huawei', 'Lava', 'Lenovo', 'LG',\n",
       "       'Micromax', 'Nokia', 'Oppo', 'Samsung', 'Vivo', 'Xiaomi', 'ZTE',\n",
       "       'Apple', 'Asus', 'Acer', 'Alcatel', 'BlackBerry', 'Celkon',\n",
       "       'Coolpad', 'Gionee', 'Google', 'Karbonn', 'Meizu', 'Microsoft',\n",
       "       'Motorola', 'OnePlus', 'Panasonic', 'Realme', 'Sony', 'Spice',\n",
       "       'XOLO'], dtype=object)"
      ]
     },
     "execution_count": 12,
     "metadata": {},
     "output_type": "execute_result"
    }
   ],
   "source": [
    "df.brand_name.unique()"
   ]
  },
  {
   "cell_type": "code",
   "execution_count": 13,
   "id": "c2e28b41",
   "metadata": {},
   "outputs": [
    {
     "data": {
      "text/plain": [
       "array(['Android', 'Others', 'iOS', 'Windows'], dtype=object)"
      ]
     },
     "execution_count": 13,
     "metadata": {},
     "output_type": "execute_result"
    }
   ],
   "source": [
    "df.os.unique()"
   ]
  },
  {
   "cell_type": "code",
   "execution_count": 14,
   "id": "5405e9b3",
   "metadata": {},
   "outputs": [
    {
     "data": {
      "text/plain": [
       "array([14.5 , 17.3 , 16.69, 25.5 , 15.32, 16.23, 13.84, 15.77, 15.47,\n",
       "       15.9 , 16.74, 25.43, 20.32, 15.29, 12.88, 15.24, 15.37, 16.71,\n",
       "       25.6 , 15.34, 16.59, 16.81, 20.42, 10.16, 17.78, 12.7 , 15.44,\n",
       "        5.28, 15.27, 15.8 , 15.72, 12.83,  7.62,  7.75, 10.03, 16.56,\n",
       "        5.18, 15.39, 10.29, 16.43, 12.93, 15.42, 16.36, 16.21, 16.13,\n",
       "       17.5 , 16.28, 14.4 , 15.21, 20.12, 16.48, 16.89, 16.31, 25.53,\n",
       "       12.73, 20.55, 30.71, 27.94, 25.45, 18.01, 14.35, 23.04, 10.34,\n",
       "       10.24, 12.78, 12.75, 23.01, 11.81, 11.84, 10.36, 11.76, 12.9 ,\n",
       "       17.4 , 14.55, 12.8 ,  7.65, 10.21,  5.08,  5.13,  5.23, 20.35,\n",
       "       12.57, 16.33, 18.08, 17.65, 14.83, 15.06, 13.08, 15.14, 30.56,\n",
       "       19.96, 19.94, 25.4 , 11.89, 15.62, 17.83,  7.85,  7.67, 16.08,\n",
       "       17.73, 12.52, 20.4 ,  7.82, 15.11, 13.87,  5.16, 10.08, 15.7 ,\n",
       "       14.88, 15.82, 15.95,  7.7 , 14.53, 17.86, 12.85, 13.34, 11.48,\n",
       "        7.98, 30.53,  7.8 , 12.12,  8.31,  6.68, 10.31, 11.56, 14.86,\n",
       "       14.94, 13.79, 13.56, 15.16, 12.67, 10.19, 16.84, 16.94, 14.81])"
      ]
     },
     "execution_count": 14,
     "metadata": {},
     "output_type": "execute_result"
    }
   ],
   "source": [
    "df.screen_size.unique()"
   ]
  },
  {
   "cell_type": "code",
   "execution_count": 18,
   "id": "ab797677",
   "metadata": {},
   "outputs": [
    {
     "data": {
      "text/plain": [
       "array(['yes', 'no'], dtype=object)"
      ]
     },
     "execution_count": 18,
     "metadata": {},
     "output_type": "execute_result"
    }
   ],
   "source": [
    "df['4g'].unique()"
   ]
  },
  {
   "cell_type": "code",
   "execution_count": 19,
   "id": "ce32ad19",
   "metadata": {},
   "outputs": [
    {
     "data": {
      "text/plain": [
       "array(['no', 'yes'], dtype=object)"
      ]
     },
     "execution_count": 19,
     "metadata": {},
     "output_type": "execute_result"
    }
   ],
   "source": [
    "df['5g'].unique()"
   ]
  },
  {
   "cell_type": "code",
   "execution_count": 33,
   "id": "6347edff",
   "metadata": {},
   "outputs": [
    {
     "data": {
      "text/plain": [
       "array([13.  ,  8.  ,  5.  , 10.5 ,  3.15,  2.  , 16.  ,  0.3 , 12.  ,\n",
       "       14.5 , 48.  ,  3.  , 21.  ,  1.3 , 13.1 , 24.  ,  0.08, 20.7 ,\n",
       "       23.  ,  1.  , 18.  , 12.2 , 12.3 , 20.  , 20.2 ,  4.  , 12.5 ,\n",
       "       10.  ,  6.5 ,  6.7 , 41.  , 20.1 , 12.6 , 16.3 , 22.6 , 19.  ,\n",
       "       21.5 , 21.2 ,  8.1 ,  1.2 , 22.5 ])"
      ]
     },
     "execution_count": 33,
     "metadata": {},
     "output_type": "execute_result"
    }
   ],
   "source": [
    "df.main_camera_mp.unique()"
   ]
  },
  {
   "cell_type": "code",
   "execution_count": 21,
   "id": "33dc36bf",
   "metadata": {},
   "outputs": [
    {
     "data": {
      "text/plain": [
       "array([ 5.  , 16.  ,  8.  , 32.  ,  2.  ,  0.3 , 13.  , 14.5 , 24.  ,\n",
       "       10.  ,  1.3 ,  0.  , 25.  , 20.  , 12.  ,  7.  ,  1.2 ,  3.  ,\n",
       "        2.1 ,  1.  ,  4.  ,  1.1 , 10.5 ,  1.6 ,  1.8 ,  0.9 ,  1.25,\n",
       "       18.  ,  1.9 ,  9.  ,  3.7 , 16.3 ,  5.1 ,  2.2 , 14.  ,  0.65])"
      ]
     },
     "execution_count": 21,
     "metadata": {},
     "output_type": "execute_result"
    }
   ],
   "source": [
    "df.selfie_camera_mp.unique()"
   ]
  },
  {
   "cell_type": "code",
   "execution_count": 22,
   "id": "ff16176e",
   "metadata": {},
   "outputs": [
    {
     "data": {
      "text/plain": [
       "array([6.400e+01, 1.280e+02, 3.200e+01, 1.600e+01, 2.560e+02, 5.120e+02,\n",
       "       8.000e+00, 4.000e+00, 5.000e-01, 2.000e-01, 1.000e-01, 6.000e-02,\n",
       "       1.024e+03, 2.400e+01, 1.000e-02])"
      ]
     },
     "execution_count": 22,
     "metadata": {},
     "output_type": "execute_result"
    }
   ],
   "source": [
    "df.int_memory.unique()"
   ]
  },
  {
   "cell_type": "code",
   "execution_count": 23,
   "id": "4b29ade9",
   "metadata": {},
   "outputs": [
    {
     "data": {
      "text/plain": [
       "array([ 3.  ,  8.  ,  6.  ,  4.  ,  2.  ,  1.  , 12.  ,  0.5 ,  0.25,\n",
       "        0.03,  0.02,  1.5 ])"
      ]
     },
     "execution_count": 23,
     "metadata": {},
     "output_type": "execute_result"
    }
   ],
   "source": [
    "df.ram.unique()"
   ]
  },
  {
   "cell_type": "code",
   "execution_count": 24,
   "id": "77d512ac",
   "metadata": {},
   "outputs": [
    {
     "data": {
      "text/plain": [
       "array([3020. , 4300. , 4200. , 7250. , 5000. , 4000. , 3400. , 4100. ,\n",
       "       3750. , 5100. , 5680. , 3850. , 3075. , 3300. , 3930. , 4500. ,\n",
       "       7500. , 6100. , 3500. , 1700. , 3000. , 7000. , 3590. , 4050. ,\n",
       "       8400. , 1470. , 3450. , 8200. , 1540. , 1500. , 2000. , 1020. ,\n",
       "       1200. , 4025. , 4230. , 3600. , 4035. , 4020. , 4065. , 3130. ,\n",
       "       3090. , 3820. , 6000. , 2700. , 4350. , 4030. , 3700. , 3260. ,\n",
       "       3940. , 1900. , 2920. , 3200. , 2600. , 7040. , 7600. , 2800. ,\n",
       "       9720. , 5770.5, 8827. , 7812. , 5124. , 3230. , 2200. , 1760. ,\n",
       "       3100. , 3240. , 2840. , 1800. , 2460. , 4080. , 4420. , 2870. ,\n",
       "       2420. , 5910. , 4550. , 2300. , 1300. , 2100. , 2500. , 4600. ,\n",
       "       1630. , 2955. , 2400. , 7300. , 4960. , 2640. , 2710. , 2580. ,\n",
       "       2850. , 2050. , 2150. , 2960. , 2610. , 2910. , 2820. , 1400. ,\n",
       "       1000. , 4060. ,  750. ,  850. , 3050. , 5020. , 3150. , 2350. ,\n",
       "       3140. , 1850. , 1350. , 1920. , 1420. , 1750. , 8000. , 4400. ,\n",
       "       1280. , 3830. , 3210. , 2980. , 3969. , 3174. , 2658. , 2942. ,\n",
       "       5493. , 2716. , 2691. , 1821. , 2256. , 8134. , 2900. , 1960. ,\n",
       "       7306. , 1624. , 2750. , 1715. , 3937. , 7340. , 6470. , 2915. ,\n",
       "       1810. , 8600. , 1560. , 1510. , 6600. , 2950. , 4130. , 4680. ,\n",
       "       2650. , 7800. , 3480. , 5900. , 2070. , 3010. , 1600. , 4890. ,\n",
       "       2040. , 3030. , 3950. , 2060. , 2110. , 2865. , 3910. , 1820. ,\n",
       "       1170. , 5070. , 4270. , 1840. , 2520. , 3410. , 2515. , 2880. ,\n",
       "       1450. , 2180. , 4180. , 3180. , 6180. , 2020. , 2250. ,  820. ,\n",
       "        620. , 3080. , 3120. , 3620. , 2470. , 7280. , 3800. , 2630. ,\n",
       "       1150. , 4070. , 4010. , 2670. , 6020. , 3065. , 2530. , 1950. ,\n",
       "       3520. , 2770. , 9240. , 3340. , 4800. , 1730. , 2550. , 4150. ,\n",
       "       8380. , 2965. , 2730. , 6700. , 1650. , 1230. , 1860. , 3650. ,\n",
       "       2280. , 6660. , 4360. , 2680. , 1975. , 4450. , 1625. , 2620. ,\n",
       "       2560. , 5180. , 3350. , 3760. , 4850. , 4250. , 9300. , 4290. ,\n",
       "       4900. , 6200. , 2410. , 9600. , 6400. , 6340. , 9000. , 3550. ,\n",
       "       2660. , 1940. , 2125. , 7400. , 2540. ,  950. , 2440. , 3570. ,\n",
       "       3070. , 3360. , 3235. , 3060. , 2760. , 3095. , 2260. , 2450. ,\n",
       "       1905. , 3510. , 2390. , 3900. , 3220. , 1980. , 2130. , 1785. ,\n",
       "       3320. , 2970. , 2990. , 1100. , 1830. , 5300. , 1430. , 1110. ,\n",
       "       5200. , 5400. , 2525. , 3765. , 3730. , 3430. , 4120. , 2320. ,\n",
       "       2140. , 3610. ,  800. , 2210. , 1030. , 4700. , 4380. , 6150. ,\n",
       "       5870. , 7900. , 2430. , 6800. , 9500. , 8220. , 2330. , 2030. ,\n",
       "       3580. , 3540. , 2930. , 2370. , 3315. , 3425. , 3250. , 3225. ,\n",
       "       4015. , 3160. , 5830. , 1780. , 1880. , 5500. , 8620. , 2860. ,\n",
       "       6190. , 2230. ,  500. , 3630. , 2705. , 2480. , 5260. , 4235. ,\n",
       "       3046. , 3110. ])"
      ]
     },
     "execution_count": 24,
     "metadata": {},
     "output_type": "execute_result"
    }
   ],
   "source": [
    "df.battery.unique()"
   ]
  },
  {
   "cell_type": "code",
   "execution_count": 25,
   "id": "ded6307f",
   "metadata": {},
   "outputs": [
    {
     "data": {
      "text/plain": [
       "array([146.  , 213.  , 480.  , 185.  , 176.  , 144.  , 164.  , 165.  ,\n",
       "       150.  , 206.  , 171.5 , 172.  , 173.  , 453.6 , 170.  , 160.  ,\n",
       "       180.  , 192.  , 182.  , 163.  , 310.  , 189.  , 450.  , 226.  ,\n",
       "       460.  , 183.  , 178.  , 198.  , 196.  , 163.5 , 498.  , 340.  ,\n",
       "       320.  , 171.  , 196.8 , 136.1 , 350.  , 147.6 , 520.  , 580.  ,\n",
       "       305.  , 236.  , 159.  , 655.  , 196.5 , 219.  , 127.  , 218.  ,\n",
       "       148.  , 152.  , 186.  , 194.  , 175.  , 179.  , 140.45, 146.5 ,\n",
       "        89.  ,  85.  , 200.  ,  90.5 , 220.  ,  88.2 , 181.  , 169.5 ,\n",
       "       190.  , 215.  , 168.  , 135.  , 313.  , 141.  , 210.  , 206.5 ,\n",
       "       203.  , 153.  , 234.  , 198.5 , 193.  , 186.7 , 191.5 , 190.5 ,\n",
       "       218.5 , 217.3 , 217.  , 204.1 , 189.5 , 130.  , 145.  , 184.  ,\n",
       "       241.  , 191.  , 173.8 , 157.  ,  91.3 ,  86.5 , 154.  , 187.  ,\n",
       "       467.  , 168.1 , 420.  , 256.  , 653.  , 169.  , 338.  , 184.7 ,\n",
       "       330.  , 191.6 , 242.  , 505.2 , 138.  , 176.6 , 355.  , 374.  ,\n",
       "       641.  , 471.  , 483.  , 468.  , 299.  , 158.  , 136.  , 508.  ,\n",
       "        90.  , 295.1 , 325.  , 279.  , 285.  , 390.  , 400.  , 153.2 ,\n",
       "       544.3 , 260.  , 126.  , 147.5 , 166.  , 125.  , 353.8 , 142.  ,\n",
       "       540.  , 110.  , 118.  , 120.  , 119.  , 116.  , 155.  , 360.  ,\n",
       "       298.  , 159.5 , 134.  , 122.  , 323.  , 315.  , 380.  , 229.  ,\n",
       "       195.  , 560.  , 410.  , 140.  , 339.9 , 151.  , 415.  , 245.  ,\n",
       "       147.  , 156.  , 163.9 , 159.95, 149.  , 174.  , 144.9 , 142.95,\n",
       "       335.  ,  98.  , 114.  , 101.  ,  93.  , 149.1 , 121.1 , 327.  ,\n",
       "       100.  ,  95.  ,  77.9 , 162.  , 103.  , 128.  , 136.5 , 117.4 ,\n",
       "       177.6 ,  96.  , 108.  , 119.5 , 115.  , 109.  , 139.  , 143.6 ,\n",
       "       167.5 , 209.8 , 137.  , 155.3 , 143.  , 118.5 , 212.  , 156.5 ,\n",
       "       135.5 , 204.4 , 119.8 , 149.7 , 146.4 , 139.2 ,  97.  , 156.2 ,\n",
       "        98.9 , 118.7 , 129.  , 143.1 , 150.5 , 143.5 , 402.  , 645.4 ,\n",
       "       282.  , 472.4 , 289.  , 357.  ,  80.  , 131.9 , 153.7 , 147.7 ,\n",
       "       129.4 , 110.6 , 137.7 , 124.9 , 176.9 , 113.6 , 122.7 , 140.7 ,\n",
       "       500.  , 369.  , 295.  , 337.  , 290.  , 303.  , 345.  , 456.  ,\n",
       "       300.5 , 631.  , 208.  , 177.  , 469.  , 202.  , 677.  , 188.  ,\n",
       "       437.  , 113.  , 713.  , 331.  , 112.  , 132.  , 214.  , 510.  ,\n",
       "       223.  , 232.  , 490.  , 270.  , 430.  , 158.4 , 233.  , 133.5 ,\n",
       "       170.1 , 272.  , 155.1 , 265.  , 280.  , 525.  , 148.8 , 269.  ,\n",
       "       328.  , 595.  , 550.  , 105.  , 522.  , 585.  , 302.  , 370.  ,\n",
       "       167.  , 137.5 , 142.6 , 207.  , 106.  , 404.  , 133.  , 124.  ,\n",
       "        69.  , 243.  , 470.  , 250.  , 161.  , 115.3 , 102.  ,  78.2 ,\n",
       "       173.4 , 138.5 , 597.  , 292.  , 142.5 ,  92.  , 121.  , 154.5 ,\n",
       "       130.5 , 135.6 , 199.  , 238.  , 168.2 , 207.7 , 147.2 , 167.6 ,\n",
       "       136.6 , 211.  , 125.3 , 180.3 ,  97.7 , 142.9 , 115.35, 517.  ,\n",
       "       230.  , 850.  , 855.  , 294.8 , 239.  , 626.  , 319.8 , 340.2 ,\n",
       "       372.  , 157.5 , 149.8 , 140.1 , 138.9 , 425.  , 123.  , 123.9 ,\n",
       "       107.  , 475.  , 316.  , 326.  , 495.  , 278.  , 141.5 , 131.  ,\n",
       "       228.  , 433.  , 620.  , 329.  , 384.  , 114.5 , 104.5 , 176.5 ,\n",
       "        87.5 , 126.5 ,  75.  , 187.1 , 168.5 , 115.4 , 204.  , 153.8 ,\n",
       "       254.  , 300.  , 637.  , 155.6 , 225.  , 259.  , 509.  , 666.8 ,\n",
       "       467.2 , 117.  , 619.  , 419.  , 615.  , 163.3 , 145.2 , 605.  ,\n",
       "       401.  , 244.9 , 339.  , 165.4 , 172.3 , 166.5 , 141.8 , 309.  ,\n",
       "       144.6 , 169.8 , 489.  , 347.  , 165.9 , 124.4 , 129.6 , 344.  ,\n",
       "       146.8 , 535.8 , 523.  , 342.  , 293.  , 126.6 , 113.4 , 104.6 ,\n",
       "       159.9 , 122.5 , 141.2 , 133.2 , 115.5 , 103.3 , 310.5 , 306.  ,\n",
       "        98.6 , 141.9 , 127.9 , 136.3 , 134.1 , 205.  , 196.6 , 153.5 ,\n",
       "       140.6 , 125.9 , 171.8 , 138.3 ,  88.1 ,  91.8 ,  79.  ,  78.6 ,\n",
       "       318.  ,  99.8 , 100.6 , 128.7 ,  89.3 ,  83.6 , 209.  , 110.2 ,\n",
       "       101.3 , 101.1 ,  89.6 ,  98.2 ,  97.3 , 103.7 , 356.  , 132.5 ,\n",
       "       140.75, 154.85, 146.7 , 612.  , 621.  , 406.  , 680.  , 660.  ,\n",
       "       197.  , 263.  , 358.  , 201.  , 364.  , 429.  , 184.8 , 283.  ,\n",
       "       322.  , 110.3 , 393.  , 136.9 , 130.3 , 123.8 , 107.6 , 294.  ,\n",
       "       465.  , 135.8 , 276.  , 487.  ,  91.  , 162.5 , 753.  , 750.  ,\n",
       "       740.  , 732.  , 730.2 , 477.  , 134.2 , 121.9 , 118.9 , 118.2 ,\n",
       "       130.4 ,  99.5 , 118.8 , 314.  , 119.1 , 128.5 , 143.9 , 100.5 ,\n",
       "       130.1 ,  89.2 , 120.6 , 139.1 , 148.5 , 167.4 , 221.  , 164.4 ,\n",
       "       137.4 , 389.  , 143.8 , 170.6 , 439.  , 426.  , 171.7 , 123.3 ,\n",
       "       196.3 , 354.4 , 630.5 , 671.3 , 598.7 , 190.25, 149.3 , 181.5 ,\n",
       "       162.8 , 183.2 , 157.8 , 158.6 , 183.5 , 172.5 , 140.5 , 167.8 ,\n",
       "       167.9 , 342.5 , 485.  , 131.5 , 148.85, 151.3 , 171.1 , 158.8 ,\n",
       "       174.9 , 149.5 , 194.8 , 172.9 , 139.3 , 189.9 , 135.55, 117.9 ,\n",
       "       127.6 , 153.4 , 152.9 , 183.6 , 201.8 , 222.  ])"
      ]
     },
     "execution_count": 25,
     "metadata": {},
     "output_type": "execute_result"
    }
   ],
   "source": [
    "df.weight.unique()"
   ]
  },
  {
   "cell_type": "code",
   "execution_count": 26,
   "id": "aa4624da",
   "metadata": {},
   "outputs": [
    {
     "data": {
      "text/plain": [
       "array([2020, 2019, 2013, 2014, 2016, 2018, 2015, 2017])"
      ]
     },
     "execution_count": 26,
     "metadata": {},
     "output_type": "execute_result"
    }
   ],
   "source": [
    "df.release_year.unique()"
   ]
  },
  {
   "cell_type": "code",
   "execution_count": 27,
   "id": "c1493bfa",
   "metadata": {},
   "outputs": [
    {
     "data": {
      "text/plain": [
       "array([ 127,  325,  162,  345,  293,  223,  234,  219,  161,  327,  268,\n",
       "        344,  537,  336,  230,  248,  395,  421,  532,  266,  321,  933,\n",
       "        187,  499,  497,  202,  493,   91,  299,  354,  306,  231,  205,\n",
       "        211,  120,  139,   93,  460,  256,  206,  488,  516,  289,  477,\n",
       "        195,  244,  376,  406,  462,  333,  284,  445,  375,  666,  819,\n",
       "        233,  419,  267,  461,  423,  528,  254,  370,  482,  691,  273,\n",
       "        349,  343,  352,  142,   92,  166,  329,  383,  443,  257,  380,\n",
       "        255,  512,  200,  210,  216,  724,  628,  750, 1016,  956,  680,\n",
       "        733, 1029,  310,  193,  356,  272,  397,  411,  276,  392,  296,\n",
       "        664, 1076,  317,  909,  135,  523,  414,  153,  125,  123,  220,\n",
       "        173,  413,  279,  212,  188,  264,  259,  500,  288,  391,  204,\n",
       "        456,  224,  451,  338,  455,  431,  334,  415,  931,  407,  470,\n",
       "        280,  478,  382,  374,  396,  386,  347,  330,  474,  385,  506,\n",
       "        595,  420,  138,  346,  362,  355,  141,  228,  213,  504,  371,\n",
       "        201,  311,  524,  388,  251, 1048,  194,  323,  489,  328,  134,\n",
       "        240,  102,  305,  215,  133,  181,  433,  505,  351,  364,  253,\n",
       "        269,  207,  518,  307,  274,  520,  539,  610,  835,  704,  429,\n",
       "        531,  426,  401,  424,  902,  126,  196,  471,  517,  438,  393,\n",
       "        463,  693,  965,  900,  757,  652, 1051,  897,  260,  322,  148,\n",
       "        277,  232,  282,  587,  917,  486,  226,  258,  320,  430,  190,\n",
       "        313,  222,  852,  168,  290,  243,  513,  452,  440,  335,  221,\n",
       "       1064,  601,  827,  840, 1073,  184, 1091,  214,  247,  578,  918,\n",
       "        662, 1050, 1046,  770,  759, 1041,  932,  836,  737, 1057,  473,\n",
       "        726,  699, 1085, 1079,  617,  570,  714,  549,  893,  767,  824,\n",
       "        988,  961,  942,  874,  899,  994,  592,  934,  603,  697, 1044,\n",
       "        579,  569,  723,  886,  936,  685,  611,  920, 1007,  642,  719,\n",
       "       1082,  690,  801, 1015,  635,  901,  946,  656,  905,  562,  761,\n",
       "        825,  558,  302,  670,  591,  586,  538,  600,  707,  636,  564,\n",
       "        716,  751,  823,  839,  687,  619,  866,  884,  754, 1063,  769,\n",
       "        989,  811,  911,  987,  649, 1006,  708,  813,  780,  622, 1040,\n",
       "        566,  736,  658,  686,  976,  713,  732,  629, 1092,  786,  829,\n",
       "        803,  702,  672,  929,  718,  969,  794,  892,  654,  921,  632,\n",
       "        867,  787,  809,  753,  951,  701,  955,  785,  653,  834,  568,\n",
       "        571,  606,  540,  906,  967,  904,  684,  764,  837,  692,  817,\n",
       "        831,  858,  608, 1084,  789,  585,  898,  597,  573, 1042,  847,\n",
       "        616,  681,  492,  683,  725,  879,  816,  580,  650,  974,  805,\n",
       "        924,  758,  945, 1047,  614,  689,  957,  706,  643,  739,  609,\n",
       "        563,  646,  833,  960, 1008,  556,  661,  783,  998,  695, 1088,\n",
       "        977,  822,  878,  790,  552,  821,  925, 1032,  496,  250,  543,\n",
       "        525,  583,  641,  673,  815,  604,  541, 1026,  894,  667,  778,\n",
       "        572,  547,  914,  877,  995, 1070,  712,  399,  727,  665,  669,\n",
       "        624,  773,  594,  565,  872,  551,  676,  985,  575,  535,  511,\n",
       "        722,  781,  868,  818,  542,  797,  612,  755,  588,  796,  582,\n",
       "       1055,  981,  862,  927,  553,  599,  980,  928,  545, 1003,  700,\n",
       "        999, 1089,  715,  997, 1014,  880,  885,  777,  747,  953,  749,\n",
       "        970,  557,  626,  857,  860, 1059, 1023, 1022,  772,  846,  731,\n",
       "        645,  766,  705, 1013,  800,  679, 1081,  947,  910,  550, 1083,\n",
       "        674,  869,  887,  593,  710, 1011,  561,  607,  554,  560, 1094,\n",
       "        903,  696,  625,  574,  774,  760,  814,  784,  720,  895,  889,\n",
       "        740, 1090,  856,  637,  959,  979, 1056, 1024,  639,  581, 1038,\n",
       "        782,  729,  728, 1028,  793,  855,  883,  990,  745, 1060,  850,\n",
       "        567,  454,  890,  756,  843,  992,  546,  863,  930,  688,  802,\n",
       "        590,  630, 1035, 1027,  779, 1034,  791,  671,  851,  555,  820,\n",
       "       1078,  703,  848,  939,  735,  613,  377,  711,  792,  962, 1031,\n",
       "        944, 1061, 1030,  966,  854,  623,  660,  873,  694,  941, 1069,\n",
       "       1054,  950, 1000,  738,  682,  602, 1021,  584,  372,  410,  283,\n",
       "        663,  675, 1039, 1001,  826,  668,  806,  634,  678,  621,  384,\n",
       "        859,  744,  948,  828,  748,  559,  916,  795,  598,  986, 1066,\n",
       "       1002,  973,  640,  838,  768,  620,  996, 1018,  845, 1072,  515,\n",
       "        359,  476,  381,  434,  295,  442,  389,  365,  441,  448,  651,\n",
       "        387,  453,  530,  457,  522,  762,  788,  896,  808, 1049,  926,\n",
       "       1009,  975,  631, 1037, 1010, 1005,  870,  964,  644,  698,  638,\n",
       "        807,  922,  742,  949,  938,  804, 1019,  913,  849,  830, 1077,\n",
       "        799, 1062,  677,  912,  577,  765,  502,  464,  436,  509,  480,\n",
       "        763,  752,  841,  963,  940,  548,  958, 1045, 1074,  876,  881,\n",
       "        618,  865, 1012,  954,  721,  655, 1033,  627,  369,  394,  487,\n",
       "        494,  366,  743,  746,  730,  576,  864,  741,  983,  709,  798,\n",
       "        776, 1025,  775,  952,  888,  853,  633,  984, 1093,  810,  605,\n",
       "        908,  734, 1052,  871,  596,  937, 1017,  390,  368,  447,  373,\n",
       "        533,  842,  659, 1020,  294,  485,  648,  469,  417,  717, 1067,\n",
       "        252,  238,  412,  507,  444,  527, 1065,  915,  968,  978, 1043,\n",
       "        844, 1068,  919,  832,  657,  972, 1087,  422,  416,  291,  428,\n",
       "        526,  363,  298,  339,  465,  923,  907,  875,  882,  971, 1071,\n",
       "        589, 1075,  935,  544, 1004, 1080, 1086,  262,  991,  615,  647,\n",
       "        982, 1053,  943,  237,  261,  198,  408,  449,  475,  479,  861,\n",
       "        353,  446,  427,  891,  812,  771,  466,  404,  203,  318,  508,\n",
       "        119,  281,  239,  182,  100,  151,  285,  297,  350,  292,  342,\n",
       "        491,  379,  249,  459,  121,  113,  301,  514,  186,  179,  275,\n",
       "        286,  265,  129,  326,  360,  263,  308,  435,  348,  481,  235,\n",
       "        225,   98,  197,  176,  124,  332,  315,  208,  149])"
      ]
     },
     "execution_count": 27,
     "metadata": {},
     "output_type": "execute_result"
    }
   ],
   "source": [
    "df.days_used.unique()"
   ]
  },
  {
   "cell_type": "code",
   "execution_count": 28,
   "id": "06e5f910",
   "metadata": {},
   "outputs": [
    {
     "data": {
      "text/plain": [
       "array([4.30757245, 5.16209665, 5.11108377, ..., 5.03773152, 4.35734965,\n",
       "       4.34976167])"
      ]
     },
     "execution_count": 28,
     "metadata": {},
     "output_type": "execute_result"
    }
   ],
   "source": [
    "df.normalized_used_price.unique()"
   ]
  },
  {
   "cell_type": "code",
   "execution_count": 29,
   "id": "9d259560",
   "metadata": {},
   "outputs": [
    {
     "data": {
      "text/plain": [
       "array([4.71510025, 5.51901794, 5.88463072, ..., 6.25153773, 4.62418819,\n",
       "       4.27999391])"
      ]
     },
     "execution_count": 29,
     "metadata": {},
     "output_type": "execute_result"
    }
   ],
   "source": [
    "df.normalized_new_price.unique()"
   ]
  },
  {
   "cell_type": "code",
   "execution_count": 11,
   "id": "0233501c",
   "metadata": {},
   "outputs": [
    {
     "data": {
      "text/plain": [
       "Index(['brand_name', 'os', 'screen_size', '4g', '5g', 'main_camera_mp',\n",
       "       'selfie_camera_mp', 'int_memory', 'ram', 'battery', 'weight',\n",
       "       'release_year', 'days_used', 'normalized_used_price',\n",
       "       'normalized_new_price'],\n",
       "      dtype='object')"
      ]
     },
     "execution_count": 11,
     "metadata": {},
     "output_type": "execute_result"
    }
   ],
   "source": [
    "df.columns"
   ]
  },
  {
   "cell_type": "code",
   "execution_count": null,
   "id": "adc6c98b",
   "metadata": {},
   "outputs": [],
   "source": [
    "df['bath_bed_ratio'] = df.bathrooms / df.bedrooms"
   ]
  },
  {
   "cell_type": "code",
   "execution_count": 10,
   "id": "abebb8b8",
   "metadata": {},
   "outputs": [
    {
     "data": {
      "text/plain": [
       "0"
      ]
     },
     "execution_count": 10,
     "metadata": {},
     "output_type": "execute_result"
    }
   ],
   "source": [
    "#check for duplicate values\n",
    "data.duplicated().sum()"
   ]
  },
  {
   "cell_type": "code",
   "execution_count": null,
   "id": "e6f10fba",
   "metadata": {},
   "outputs": [],
   "source": [
    "nums = ['fare']\n",
    "cats = ['survived', 'pclass', 'sibsp', 'parch', 'alone', 'sex_male', 'embark_town_Queenstown', 'embark_town_Southampton']"
   ]
  },
  {
   "cell_type": "code",
   "execution_count": null,
   "id": "59e68908",
   "metadata": {},
   "outputs": [],
   "source": [
    "for col in cats:\n",
    "    print(col)\n",
    "    print(train[col].value_counts())\n",
    "    print(train[col].value_counts(normalize=True)*100)\n",
    "    sns.countplot(x=col, data=train)\n",
    "    plt.show()\n",
    "    print('-------------')"
   ]
  },
  {
   "cell_type": "code",
   "execution_count": null,
   "id": "4689c440",
   "metadata": {},
   "outputs": [],
   "source": [
    "for col in nums:\n",
    "    sns.histplot(x=col, data=train)\n",
    "    plt.show()"
   ]
  },
  {
   "cell_type": "code",
   "execution_count": null,
   "id": "f6e8b175",
   "metadata": {},
   "outputs": [],
   "source": []
  },
  {
   "cell_type": "code",
   "execution_count": null,
   "id": "dbaaa479",
   "metadata": {},
   "outputs": [],
   "source": []
  },
  {
   "cell_type": "code",
   "execution_count": null,
   "id": "4f6a2768",
   "metadata": {},
   "outputs": [],
   "source": [
    "#### Visualize single variable distribution"
   ]
  },
  {
   "cell_type": "code",
   "execution_count": null,
   "id": "10e29b3e",
   "metadata": {},
   "outputs": [],
   "source": [
    "It is important that data scaling happens after data splitting. We don't want to leak information from our test/validate splits by using those to calculate parameters for scaling.\n",
    "\n"
   ]
  },
  {
   "cell_type": "markdown",
   "id": "dfebcbae",
   "metadata": {},
   "source": [
    "### Exploration\n",
    "#### Visualize\n",
    "#### Hypothesize\n",
    "#### Test Hypotheses"
   ]
  },
  {
   "cell_type": "markdown",
   "id": "2d06c73c",
   "metadata": {},
   "source": [
    "### Modeling\n",
    "#### Feature Engineering\n",
    "#### Establish Baseline\n",
    "#### Build Models\n",
    "#### Model Evaluation\n",
    "#### Model Selction and Testing"
   ]
  },
  {
   "cell_type": "markdown",
   "id": "cfa7cad9",
   "metadata": {},
   "source": [
    "### Remove duplicate rows"
   ]
  },
  {
   "cell_type": "code",
   "execution_count": null,
   "id": "1e00c8df",
   "metadata": {},
   "outputs": [],
   "source": [
    "# The default is bins=10.\n",
    "\n",
    "sns.displot(x='final_grade', data=df)\n",
    "\n",
    "plt.title('final_grade')\n",
    "plt.show()\n"
   ]
  },
  {
   "cell_type": "code",
   "execution_count": null,
   "id": "b5f72300",
   "metadata": {},
   "outputs": [],
   "source": [
    "Feature Scaling\n"
   ]
  },
  {
   "cell_type": "code",
   "execution_count": null,
   "id": "297b3845",
   "metadata": {},
   "outputs": [],
   "source": [
    "Feature Engineering/Selection"
   ]
  },
  {
   "cell_type": "code",
   "execution_count": null,
   "id": "1485f571",
   "metadata": {},
   "outputs": [],
   "source": [
    "data.duplicated().sum()"
   ]
  },
  {
   "cell_type": "code",
   "execution_count": null,
   "id": "6d0b52b5",
   "metadata": {},
   "outputs": [],
   "source": [
    "(df.drop_duplicates()).shape"
   ]
  },
  {
   "cell_type": "code",
   "execution_count": null,
   "id": "4f2663aa",
   "metadata": {},
   "outputs": [],
   "source": []
  },
  {
   "cell_type": "code",
   "execution_count": null,
   "id": "bd3f43db",
   "metadata": {},
   "outputs": [],
   "source": [
    "df.head()"
   ]
  },
  {
   "cell_type": "code",
   "execution_count": null,
   "id": "48d0e46f",
   "metadata": {},
   "outputs": [],
   "source": [
    "4g\t5g yes no"
   ]
  },
  {
   "cell_type": "code",
   "execution_count": null,
   "id": "894e7be3",
   "metadata": {},
   "outputs": [],
   "source": [
    "df.release_year.min()"
   ]
  },
  {
   "cell_type": "code",
   "execution_count": null,
   "id": "ebbccce1",
   "metadata": {},
   "outputs": [],
   "source": [
    "df.release_year.max()"
   ]
  },
  {
   "cell_type": "code",
   "execution_count": null,
   "id": "e9bc8776",
   "metadata": {},
   "outputs": [],
   "source": [
    "df.brand_name.unique()"
   ]
  },
  {
   "cell_type": "code",
   "execution_count": null,
   "id": "14817b70",
   "metadata": {},
   "outputs": [],
   "source": [
    "df.os.unique()"
   ]
  },
  {
   "cell_type": "code",
   "execution_count": null,
   "id": "eb5ff910",
   "metadata": {},
   "outputs": [],
   "source": [
    "#gonna need to bin theses\n",
    "df.screen_size.unique()"
   ]
  },
  {
   "cell_type": "code",
   "execution_count": null,
   "id": "7e770b69",
   "metadata": {},
   "outputs": [],
   "source": [
    "df.columns"
   ]
  },
  {
   "cell_type": "code",
   "execution_count": null,
   "id": "e84fdbfd",
   "metadata": {},
   "outputs": [],
   "source": [
    "df.main_camera_mp.min()"
   ]
  },
  {
   "cell_type": "code",
   "execution_count": null,
   "id": "08e96245",
   "metadata": {},
   "outputs": [],
   "source": [
    "df.main_camera_mp.max()"
   ]
  },
  {
   "cell_type": "code",
   "execution_count": null,
   "id": "1de80967",
   "metadata": {},
   "outputs": [],
   "source": [
    "df.main_camera_mp.unique()"
   ]
  },
  {
   "cell_type": "code",
   "execution_count": null,
   "id": "8d61250a",
   "metadata": {},
   "outputs": [],
   "source": [
    "df.selfie_camera_mp.min()"
   ]
  },
  {
   "cell_type": "code",
   "execution_count": null,
   "id": "5857a491",
   "metadata": {},
   "outputs": [],
   "source": [
    "df.selfie_camera_mp.max()"
   ]
  },
  {
   "cell_type": "code",
   "execution_count": null,
   "id": "a26f0c97",
   "metadata": {},
   "outputs": [],
   "source": [
    "df.selfie_camera_mp.unique()"
   ]
  },
  {
   "cell_type": "code",
   "execution_count": null,
   "id": "cffc8ab8",
   "metadata": {},
   "outputs": [],
   "source": [
    "df.int_memory.min()"
   ]
  },
  {
   "cell_type": "code",
   "execution_count": null,
   "id": "599f960b",
   "metadata": {},
   "outputs": [],
   "source": [
    "df.int_memory.max()"
   ]
  },
  {
   "cell_type": "code",
   "execution_count": null,
   "id": "9e3639d8",
   "metadata": {},
   "outputs": [],
   "source": [
    "df.ram.min()"
   ]
  },
  {
   "cell_type": "code",
   "execution_count": null,
   "id": "2ef5248d",
   "metadata": {},
   "outputs": [],
   "source": [
    "df.ram.max()"
   ]
  },
  {
   "cell_type": "code",
   "execution_count": null,
   "id": "2bbf9bfd",
   "metadata": {},
   "outputs": [],
   "source": [
    "df.battery.min()"
   ]
  },
  {
   "cell_type": "code",
   "execution_count": null,
   "id": "d8770923",
   "metadata": {},
   "outputs": [],
   "source": [
    "df.battery.max()"
   ]
  },
  {
   "cell_type": "code",
   "execution_count": null,
   "id": "f050e010",
   "metadata": {},
   "outputs": [],
   "source": [
    "df.weight.min()"
   ]
  },
  {
   "cell_type": "code",
   "execution_count": null,
   "id": "639d5d4f",
   "metadata": {},
   "outputs": [],
   "source": [
    "df.weight.max()"
   ]
  },
  {
   "cell_type": "code",
   "execution_count": null,
   "id": "9afd381b",
   "metadata": {},
   "outputs": [],
   "source": [
    "df.days_used.min()"
   ]
  },
  {
   "cell_type": "code",
   "execution_count": null,
   "id": "149977c4",
   "metadata": {},
   "outputs": [],
   "source": [
    "df.days_used.max()"
   ]
  },
  {
   "cell_type": "code",
   "execution_count": null,
   "id": "884d0b48",
   "metadata": {},
   "outputs": [],
   "source": [
    "'battery', 'weight',\n",
    "       'release_year', 'days_used', 'normalized_used_price',\n",
    "       'normalized_new_price'],"
   ]
  },
  {
   "cell_type": "code",
   "execution_count": null,
   "id": "5d5e30a7",
   "metadata": {},
   "outputs": [],
   "source": []
  },
  {
   "cell_type": "code",
   "execution_count": null,
   "id": "9d462c20",
   "metadata": {},
   "outputs": [],
   "source": [
    "# drop columns\n",
    "df = df.drop('col1', axis=1)"
   ]
  },
  {
   "cell_type": "code",
   "execution_count": null,
   "id": "5ed7f2e1",
   "metadata": {},
   "outputs": [],
   "source": []
  },
  {
   "cell_type": "code",
   "execution_count": null,
   "id": "79c3ff8e",
   "metadata": {},
   "outputs": [],
   "source": [
    "3454-179"
   ]
  },
  {
   "cell_type": "code",
   "execution_count": null,
   "id": "ad15ef31",
   "metadata": {},
   "outputs": [],
   "source": [
    "3275/3454"
   ]
  }
 ],
 "metadata": {
  "kernelspec": {
   "display_name": "Python 3 (ipykernel)",
   "language": "python",
   "name": "python3"
  },
  "language_info": {
   "codemirror_mode": {
    "name": "ipython",
    "version": 3
   },
   "file_extension": ".py",
   "mimetype": "text/x-python",
   "name": "python",
   "nbconvert_exporter": "python",
   "pygments_lexer": "ipython3",
   "version": "3.9.12"
  }
 },
 "nbformat": 4,
 "nbformat_minor": 5
}
